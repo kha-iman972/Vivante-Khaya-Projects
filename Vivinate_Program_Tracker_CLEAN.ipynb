{
  "nbformat": 4,
  "nbformat_minor": 0,
  "metadata": {
    "colab": {
      "provenance": []
    },
    "kernelspec": {
      "name": "python3",
      "display_name": "Python 3"
    },
    "language_info": {
      "name": "python"
    }
  },
  "cells": [
    {
      "cell_type": "markdown",
      "source": [
        "# \ud83c\udf31 Vivinate Program Tracker \u2013 Prototype App (Google Colab Version)\n",
        "\n",
        "This notebook is a working prototype of a program tracking app developed as part of Khaya Yankey\u2019s training for Vivinate Farms. It is designed to support sustainable farming programs like mushroom cultivation workshops by managing participants, sessions, tasks, and field data.\n",
        "\n",
        "## \u2705 Key Features\n",
        "- **User Profiles**: Create and store participant info with location and role\n",
        "- **Session Scheduling**: Add and view sessions with color-coded types\n",
        "- **Attendance Tracking**: Mark attendance per session and visualize with pie charts\n",
        "- **Task Checklists**: Track task completion for each user\n",
        "- **Progress Visualization**: Bar charts and filtered views by task category\n",
        "- **Community Map**: View participant locations on a live interactive map\n",
        "- **Private Admin Notes**: Record hidden notes per participant\n",
        "- **Cost Tracker**: Log categorized expenses and materials\n",
        "- **Income Tracker**: Record earnings per user\n",
        "- **ROI Chart**: Compare income vs. cost across participants\n",
        "\n",
        "## \ud83d\udd0d Purpose\n",
        "This app was created to streamline program monitoring, improve field data tracking, and support decision-making for both training and sustainability assessments.\n",
        "\n",
        "## \ud83e\uddea Status\n",
        "All features are actively tested and functional inside Google Colab. Future steps may include deployment, file export, or integration with a database or mobile UI.\n",
        "\n",
        "## \ud83d\udc69\ud83c\udffd\u200d\ud83c\udf3e Author\n",
        "**Khaya Yankey**  \n",
        "Vivinate Farms Training Cohort  \n",
        "Program: Quantum-AI-Enhanced Sustainable Agriculture Tools  \n"
      ],
      "metadata": {
        "id": "0WdaMt5FmWfT"
      }
    },
    {
      "cell_type": "code",
      "execution_count": 1,
      "metadata": {
        "colab": {
          "base_uri": "https://localhost:8080/",
          "height": 180,
          "referenced_widgets": [
            "dbb6b24d23cc4c54a938bea882333674",
            "a40dd4ce7faa4363860dfe3efd4fd9bf",
            "d516548e8521481ea11ab405d01b14c3",
            "32aa2b840ebb464f9f04585de05eae30",
            "072e0fc847ce48cd907dd4a24bcb8d31",
            "4291f9f681704d68bb518f0eac021dd5",
            "7b4cee8eb6b6439cb61e13722a94cef1",
            "53ef3187cf2c4e3bb5a14585786d84a6",
            "95190cca20fb4b5c9d753b318a932173",
            "aa71313af77447af89b92d1d57bbcbdc",
            "db463ba00a9b4992bd68a390769e109f",
            "1adfe3abdebb4f638c6a147ed7637809",
            "e47d5b0ccd424f16a0171dae78dc5c6f",
            "dbdef0364b224f4d9e0676bcbdcd2dd3",
            "86cdb4bf105e44d3a9c511b7c800a5a1",
            "5c50111a894f4cebbea65d2afd16f0f0"
          ]
        },
        "id": "o3rBs75uiGru",
        "outputId": "7136397a-0e0b-452c-e780-4d0a259d80c3"
      },
      "outputs": [
        {
          "output_type": "display_data",
          "data": {
            "text/plain": [
              "VBox(children=(Text(value='', description='Name:', placeholder='Enter your name', style=DescriptionStyle(descr\u2026"
            ],
            "application/vnd.jupyter.widget-view+json": {
              "version_major": 2,
              "version_minor": 0,
              "model_id": "dbb6b24d23cc4c54a938bea882333674"
            }
          },
          "metadata": {}
        }
      ],
      "source": [
        "# Feature: Google Forms-style User Profile Input\n",
        "from IPython.display import display, clear_output\n",
        "import ipywidgets as widgets\n",
        "\n",
        "# Create the form widgets\n",
        "name_input = widgets.Text(\n",
        "    value='',\n",
        "    placeholder='Enter your name',\n",
        "    description='Name:',\n",
        "    style={'description_width': 'initial'},\n",
        ")\n",
        "\n",
        "role_input = widgets.Dropdown(\n",
        "    options=['Participant', 'Admin'],\n",
        "    value='Participant',\n",
        "    description='Role:',\n",
        "    style={'description_width': 'initial'},\n",
        ")\n",
        "\n",
        "location_input = widgets.Text(\n",
        "    value='',\n",
        "    placeholder='e.g. Farm A, Region X',\n",
        "    description='Location:',\n",
        "    style={'description_width': 'initial'},\n",
        ")\n",
        "\n",
        "submit_button = widgets.Button(\n",
        "    description='Submit Profile',\n",
        "    button_style='success',\n",
        "    tooltip='Click to save profile',\n",
        "    icon='check'\n",
        ")\n",
        "\n",
        "output = widgets.Output()\n",
        "profile_data = []\n",
        "\n",
        "# Handle submit\n",
        "def on_submit_clicked(b):\n",
        "    with output:\n",
        "        clear_output()\n",
        "        profile = {\n",
        "            'Name': name_input.value.strip(),\n",
        "            'Role': role_input.value,\n",
        "            'Location': location_input.value.strip()\n",
        "        }\n",
        "        if profile['Name'] and profile['Location']:\n",
        "            profile_data.append(profile)\n",
        "            print(\"\u2705 Profile Saved:\")\n",
        "            print(profile)\n",
        "        else:\n",
        "            print(\"\u26a0\ufe0f Please fill in all fields.\")\n",
        "\n",
        "submit_button.on_click(on_submit_clicked)\n",
        "\n",
        "# Display the form\n",
        "form_items = widgets.VBox([name_input, role_input, location_input, submit_button, output])\n",
        "display(form_items)\n"
      ]
    },
    {
      "cell_type": "code",
      "source": [
        "# Attendance Tracker\n",
        "\n",
        "from datetime import date\n",
        "\n",
        "# Only proceed if profiles exist\n",
        "if not profile_data:\n",
        "    print(\"\u26a0\ufe0f No profiles available. Add some first using the profile form.\")\n",
        "else:\n",
        "    # List of names to check attendance\n",
        "    names = [p['Name'] for p in profile_data]\n",
        "    checkboxes = [widgets.Checkbox(value=False, description=name) for name in names]\n",
        "    submit_attendance = widgets.Button(\n",
        "        description='Submit Attendance',\n",
        "        button_style='info',\n",
        "        tooltip='Save attendance',\n",
        "        icon='clipboard-check'\n",
        "    )\n",
        "    attendance_output = widgets.Output()\n",
        "    attendance_records = []\n",
        "\n",
        "    def submit_attendance_handler(b):\n",
        "        with attendance_output:\n",
        "            clear_output()\n",
        "            today = str(date.today())\n",
        "            present = [cb.description for cb in checkboxes if cb.value]\n",
        "            record = {\n",
        "                'Date': today,\n",
        "                'Present': present\n",
        "            }\n",
        "            attendance_records.append(record)\n",
        "            print(f\"\u2705 Attendance for {today} saved!\")\n",
        "            print(\"Present:\", present)\n",
        "\n",
        "    submit_attendance.on_click(submit_attendance_handler)\n",
        "\n",
        "    # Display attendance checkboxes\n",
        "    attendance_box = widgets.VBox(checkboxes + [submit_attendance, attendance_output])\n",
        "    display(attendance_box)\n"
      ],
      "metadata": {
        "colab": {
          "base_uri": "https://localhost:8080/",
          "height": 116,
          "referenced_widgets": [
            "07e793fc6cb4486bacdb0d188709005d",
            "5b0e7d9142d44029a9234a8bb7acf3ba",
            "3a52d9eaf7eb49fea9d7b7375f18db58",
            "0cdc6d7adcaa4b878ec38b87212e226b",
            "e9a7a68f16e44e448c3236c463f2f027",
            "04e9d476ca114d7b9a77afdf28501637",
            "4c0fe367cc8d4f9dbba87873ad27cc64",
            "8227d7e2f93241be8c3f15e449eea73d",
            "6d48eeedf06e4497b5e1d72b1def66e4",
            "032aef60272748d28840721cd5a5e048"
          ]
        },
        "id": "uEGG2sXniIUE",
        "outputId": "9b5a7b8f-d709-4efd-849e-81894486ad85"
      },
      "execution_count": 2,
      "outputs": [
        {
          "output_type": "display_data",
          "data": {
            "text/plain": [
              "VBox(children=(Checkbox(value=False, description='Khaya Yankey'), Button(button_style='info', description='Sub\u2026"
            ],
            "application/vnd.jupyter.widget-view+json": {
              "version_major": 2,
              "version_minor": 0,
              "model_id": "07e793fc6cb4486bacdb0d188709005d"
            }
          },
          "metadata": {}
        }
      ]
    },
    {
      "cell_type": "code",
      "source": [
        "# Session Calendar & Scheduling\n",
        "\n",
        "import datetime\n",
        "\n",
        "session_title_input = widgets.Text(\n",
        "    placeholder='e.g. Mushroom Workshop #1',\n",
        "    description='Session Title:',\n",
        "    style={'description_width': 'initial'},\n",
        ")\n",
        "\n",
        "session_date_input = widgets.DatePicker(\n",
        "    description='Date:',\n",
        "    disabled=False,\n",
        "    style={'description_width': 'initial'}\n",
        ")\n",
        "\n",
        "add_session_button = widgets.Button(\n",
        "    description='Add Session',\n",
        "    button_style='primary',\n",
        "    icon='calendar-plus'\n",
        ")\n",
        "\n",
        "calendar_output = widgets.Output()\n",
        "session_schedule = []\n",
        "\n",
        "def on_add_session(b):\n",
        "    with calendar_output:\n",
        "        clear_output()\n",
        "        title = session_title_input.value.strip()\n",
        "        session_date = session_date_input.value\n",
        "        if title and session_date:\n",
        "            session = {\n",
        "                'Title': title,\n",
        "                'Date': str(session_date)\n",
        "            }\n",
        "            session_schedule.append(session)\n",
        "            session_schedule.sort(key=lambda x: x['Date'])  # Sort by date\n",
        "            print(\"\ud83d\udcc5 Upcoming Sessions:\")\n",
        "            for s in session_schedule:\n",
        "                print(f\"{s['Date']}: {s['Title']}\")\n",
        "        else:\n",
        "            print(\"\u26a0\ufe0f Please enter both a title and date.\")\n",
        "\n",
        "add_session_button.on_click(on_add_session)\n",
        "\n",
        "calendar_form = widgets.VBox([session_title_input, session_date_input, add_session_button, calendar_output])\n",
        "display(calendar_form)\n"
      ],
      "metadata": {
        "colab": {
          "base_uri": "https://localhost:8080/",
          "height": 148,
          "referenced_widgets": [
            "59a560a74347406db03f25583bfdc775",
            "c6fc6b48ec724dc2bb4c742ac549c17c",
            "0109a446ddb14abc88c9a6c64bcb9533",
            "cf1d9f20f59c403b8b96803812f94e55",
            "d1971997bfd54f8c969b5b6b87d04ecc",
            "cf47350704b4494eb9913ab5d55eb981",
            "6f39e92f453a4b1aa149276d8f5f70c7",
            "56d414bde8bf412a9ca92a9436fb895a",
            "a35d5c540c9e441980361138251601e6",
            "a3f543105df64eeaad679e41ef595263",
            "0ccc54ea613644b794fe924530c3ee08",
            "b8cbdc3905634fdd9eac2d9bc7c09556",
            "71c2ac138ff74a67bfbb40681e81eb22"
          ]
        },
        "id": "NYGw7x4jiYHd",
        "outputId": "1d1da625-2466-4a80-87ae-b03e4ab17a74"
      },
      "execution_count": 3,
      "outputs": [
        {
          "output_type": "display_data",
          "data": {
            "text/plain": [
              "VBox(children=(Text(value='', description='Session Title:', placeholder='e.g. Mushroom Workshop #1', style=Des\u2026"
            ],
            "application/vnd.jupyter.widget-view+json": {
              "version_major": 2,
              "version_minor": 0,
              "model_id": "59a560a74347406db03f25583bfdc775"
            }
          },
          "metadata": {}
        }
      ]
    },
    {
      "cell_type": "code",
      "source": [
        "# Upgraded Attendance Tracker (linked to sessions)\n",
        "\n",
        "if not session_schedule:\n",
        "    print(\"\u26a0\ufe0f No sessions scheduled. Add sessions first.\")\n",
        "elif not profile_data:\n",
        "    print(\"\u26a0\ufe0f No profiles available. Use the profile form first.\")\n",
        "else:\n",
        "    # Select a session from scheduled ones\n",
        "    session_titles = [s['Title'] for s in session_schedule]\n",
        "    session_dropdown = widgets.Dropdown(\n",
        "        options=session_titles,\n",
        "        description='Select Session:',\n",
        "        style={'description_width': 'initial'}\n",
        "    )\n",
        "\n",
        "    # Create attendance checkboxes\n",
        "    names = [p['Name'] for p in profile_data]\n",
        "    checkboxes = [widgets.Checkbox(value=False, description=name) for name in names]\n",
        "\n",
        "    submit_attendance = widgets.Button(\n",
        "        description='Save Attendance',\n",
        "        button_style='info',\n",
        "        icon='check-circle'\n",
        "    )\n",
        "\n",
        "    attendance_output = widgets.Output()\n",
        "    linked_attendance = []  # Stores attendance per session\n",
        "\n",
        "    def submit_attendance_handler(b):\n",
        "        with attendance_output:\n",
        "            clear_output()\n",
        "            selected_title = session_dropdown.value\n",
        "            present = [cb.description for cb in checkboxes if cb.value]\n",
        "            record = {\n",
        "                'Session': selected_title,\n",
        "                'Date': next((s['Date'] for s in session_schedule if s['Title'] == selected_title), str(date.today())),\n",
        "                'Present': present\n",
        "            }\n",
        "            linked_attendance.append(record)\n",
        "            print(f\"\u2705 Attendance saved for: {selected_title}\")\n",
        "            print(\"Present:\", present)\n",
        "\n",
        "    submit_attendance.on_click(submit_attendance_handler)\n",
        "\n",
        "    # Display linked tracker\n",
        "    display(widgets.VBox([\n",
        "        widgets.HTML(\"<b>Mark attendance for a specific session:</b>\"),\n",
        "        session_dropdown,\n",
        "        widgets.VBox(checkboxes),\n",
        "        submit_attendance,\n",
        "        attendance_output\n",
        "    ]))\n"
      ],
      "metadata": {
        "colab": {
          "base_uri": "https://localhost:8080/",
          "height": 180,
          "referenced_widgets": [
            "d6c403a98d5f4c31b154767f5907612d",
            "bce39282b4554f2491f7b92ed229ea3b",
            "883c4dba83dc4723b2f33145d8e948b5",
            "f1f9fbac3df342b8b8a67136108e6787",
            "495abccd8f6548a29ff3c26fe8be368a",
            "afaff36e56a84fd6a57221e340161925",
            "79a818fc85c046e5a5069805d51d7ffb",
            "7e78b4dd59fc4aab90515bf047a0a577",
            "5bd97db4185c49f18a79b6e0c2f3db62",
            "14e87093be304d32a7afa90ecc096e7b",
            "103adcd20e444c119a021edd4992ef5a",
            "44ab077c830043a4932735e81a186a40",
            "7d9c6b985491475ca9d92182de89912a",
            "a5b65305756a4e91a72733d1383ae361",
            "83462cdeb9a044838935b25754084d40",
            "d8aa0560c2f6487eac1c11d4fa2fc07b",
            "8f2e5df984c8415b965d069b8cfdb8b9",
            "652f09ff95ca4683b5e93ce528e491ff"
          ]
        },
        "id": "FWxPBWG4idV2",
        "outputId": "a63556e4-4f91-49fa-f74f-f82bcf6c91b4"
      },
      "execution_count": 4,
      "outputs": [
        {
          "output_type": "display_data",
          "data": {
            "text/plain": [
              "VBox(children=(HTML(value='<b>Mark attendance for a specific session:</b>'), Dropdown(description='Select Sess\u2026"
            ],
            "application/vnd.jupyter.widget-view+json": {
              "version_major": 2,
              "version_minor": 0,
              "model_id": "d6c403a98d5f4c31b154767f5907612d"
            }
          },
          "metadata": {}
        }
      ]
    },
    {
      "cell_type": "code",
      "source": [
        "# Add this to your calendar input section (above or below session_title_input)\n",
        "session_type_input = widgets.Dropdown(\n",
        "    options=['Workshop \ud83d\udfe5', 'Field Visit \ud83d\udfe6', 'Webinar \ud83d\udfe9', 'Community Meeting \ud83d\udfe8'],\n",
        "    description='Type:',\n",
        "    style={'description_width': 'initial'}\n",
        ")\n"
      ],
      "metadata": {
        "id": "2K5JF1cvisLh"
      },
      "execution_count": 5,
      "outputs": []
    },
    {
      "cell_type": "code",
      "source": [
        "def on_add_session(b):\n",
        "    with calendar_output:\n",
        "        clear_output()\n",
        "        title = session_title_input.value.strip()\n",
        "        session_date = session_date_input.value\n",
        "        session_type = session_type_input.value\n",
        "        if title and session_date and session_type:\n",
        "            session = {\n",
        "                'Title': title,\n",
        "                'Date': str(session_date),\n",
        "                'Type': session_type\n",
        "            }\n",
        "            session_schedule.append(session)\n",
        "            session_schedule.sort(key=lambda x: x['Date'])\n",
        "            print(\"\ud83d\udcc5 Upcoming Sessions:\")\n",
        "            for s in session_schedule:\n",
        "                print(f\"{s['Date']}: {s['Title']} ({s['Type']})\")\n",
        "        else:\n",
        "            print(\"\u26a0\ufe0f Please fill in all fields.\")\n"
      ],
      "metadata": {
        "id": "1NdAen3kiv41"
      },
      "execution_count": 6,
      "outputs": []
    },
    {
      "cell_type": "code",
      "source": [
        "calendar_form = widgets.VBox([\n",
        "    session_title_input,\n",
        "    session_date_input,\n",
        "    session_type_input,\n",
        "    add_session_button,\n",
        "    calendar_output\n",
        "])\n"
      ],
      "metadata": {
        "id": "t4s34eJFixsa"
      },
      "execution_count": 7,
      "outputs": []
    },
    {
      "cell_type": "code",
      "source": [
        "# Feature 4: Personal Task Checklist\n",
        "\n",
        "# Example task list for your programs\n",
        "default_tasks = [\n",
        "    'Attend Intro Workshop',\n",
        "    'Collect Mushroom Spores',\n",
        "    'Prepare Growing Substrate',\n",
        "    'Set Up Grow Bags',\n",
        "    'Log First Growth Data',\n",
        "    'Complete Feedback Survey'\n",
        "]\n",
        "\n",
        "# Create user dropdown\n",
        "if not profile_data:\n",
        "    print(\"\u26a0\ufe0f Please add user profiles first.\")\n",
        "else:\n",
        "    user_names = [p['Name'] for p in profile_data]\n",
        "    selected_user = widgets.Dropdown(\n",
        "        options=user_names,\n",
        "        description='Participant:',\n",
        "        style={'description_width': 'initial'}\n",
        "    )\n",
        "\n",
        "    # Create checklist\n",
        "    task_checkboxes = [widgets.Checkbox(value=False, description=task) for task in default_tasks]\n",
        "\n",
        "    # Save button\n",
        "    save_tasks_button = widgets.Button(\n",
        "        description='Save Progress',\n",
        "        button_style='success',\n",
        "        icon='save'\n",
        "    )\n",
        "\n",
        "    task_output = widget_\n"
      ],
      "metadata": {
        "colab": {
          "base_uri": "https://localhost:8080/",
          "height": 176
        },
        "id": "a7kate0Niznl",
        "outputId": "55b29835-212d-4954-914c-fc7f8ad23b93"
      },
      "execution_count": 8,
      "outputs": [
        {
          "output_type": "error",
          "ename": "NameError",
          "evalue": "name 'widget_' is not defined",
          "traceback": [
            "\u001b[0;31m---------------------------------------------------------------------------\u001b[0m",
            "\u001b[0;31mNameError\u001b[0m                                 Traceback (most recent call last)",
            "\u001b[0;32m/tmp/ipython-input-8-2435403878.py\u001b[0m in \u001b[0;36m<cell line: 0>\u001b[0;34m()\u001b[0m\n\u001b[1;32m     32\u001b[0m     )\n\u001b[1;32m     33\u001b[0m \u001b[0;34m\u001b[0m\u001b[0m\n\u001b[0;32m---> 34\u001b[0;31m     \u001b[0mtask_output\u001b[0m \u001b[0;34m=\u001b[0m \u001b[0mwidget_\u001b[0m\u001b[0;34m\u001b[0m\u001b[0;34m\u001b[0m\u001b[0m\n\u001b[0m",
            "\u001b[0;31mNameError\u001b[0m: name 'widget_' is not defined"
          ]
        }
      ]
    },
    {
      "cell_type": "code",
      "source": [
        "# Feature 4: Personal Task Checklist\n",
        "\n",
        "# Example task list for your programs\n",
        "default_tasks = [\n",
        "    'Attend Intro Workshop',\n",
        "    'Collect Mushroom Spores',\n",
        "    'Prepare Growing Substrate',\n",
        "    'Set Up Grow Bags',\n",
        "    'Log First Growth Data',\n",
        "    'Complete Feedback Survey'\n",
        "]\n",
        "\n",
        "# Create user dropdown\n",
        "if not profile_data:\n",
        "    print(\"\u26a0\ufe0f Please add user profiles first.\")\n",
        "else:\n",
        "    user_names = [p['Name'] for p in profile_data]\n",
        "    selected_user = widgets.Dropdown(\n",
        "        options=user_names,\n",
        "        description='Participant:',\n",
        "        style={'description_width': 'initial'}\n",
        "    )\n",
        "\n",
        "    # Create checklist\n",
        "    task_checkboxes = [widgets.Checkbox(value=False, description=task) for task in default_tasks]\n",
        "\n",
        "    # Save button\n",
        "    save_tasks_button = widgets.Button(\n",
        "        description='Save Progress',\n",
        "        button_style='success',\n",
        "        icon='save'\n",
        "    )\n",
        "\n",
        "    task_output = widgets.Output()\n",
        "    user_tasks = {}  # Dictionary: Name -> [Completed tasks]\n",
        "\n",
        "    def save_tasks_handler(b):\n",
        "        with task_output:\n",
        "            clear_output()\n",
        "            name = selected_user.value\n",
        "            completed = [cb.description for cb in task_checkboxes if cb.value]\n",
        "            user_tasks[name] = completed\n",
        "            print(f\"\u2705 Progress saved for {name}\")\n",
        "            print(\"Tasks Completed:\", completed)\n",
        "\n",
        "    save_tasks_button.on_click(save_tasks_handler)\n",
        "\n",
        "    # Show interface\n",
        "    display(widgets.VBox([\n",
        "        widgets.HTML(\"<b>Track tasks for each participant:</b>\"),\n",
        "        selected_user,\n",
        "        widgets.VBox(task_checkboxes),\n",
        "        save_tasks_button,\n",
        "        task_output\n",
        "    ]))\n"
      ],
      "metadata": {
        "colab": {
          "base_uri": "https://localhost:8080/",
          "height": 340,
          "referenced_widgets": [
            "90114d13ca5144c8a8bd69bb2f656b47",
            "62801e4ba63844529c476f812b6c190c",
            "f33713a9e2a24514897b0cf719ee2971",
            "b5c99b0712564a3294163575af007cfc",
            "a36a08268dff4e6e8b1e8ee5d1eb1343",
            "883b9f087ded45e4ae4f05ec0d1907d9",
            "590393ac149347799adf9edd31f35636",
            "4ff9926388364ee6b06e066f1ba8d8cc",
            "e0a962b59a5b4a2b963fb2a00eed0780",
            "372b9032e030426887764c5283d12eff",
            "f0f2e945710f47a981a8cdbd78466367",
            "4e54f7e7ab7e40999fcb13dc7f5c8c88",
            "106abcd996ce43209733b635f955a1f1",
            "cfa537191afd410192fbfc320bc03366",
            "1bf15421477546e1b51fd7f713fe2e8f",
            "16031801fd9444c1b7bebae199c623b8",
            "1a0ab691eb814c169af9c4fbfa8a659d",
            "12267b60db304a589715c97637b3dc87",
            "9da6b67f21904ff49d261d68d9fe581a",
            "38e58bd669b648e6a901eecb97f87650",
            "0cab75c8e8d14af8a2705078ec77dd68",
            "fc0c183d1b6d4b11af82b8f283fd3ef9",
            "f73e9f7e03a4499ca444eebb42f9b2a2",
            "ad39247427924cbb98f859989d647e84",
            "e747616d2b3648b3ba0ad9ad0e461b68",
            "f18ba17134fc47ad84dbc1e040c07d9a",
            "e6af0ee2b3c54b73821b66d831187a2e",
            "64de5576964e4b6994cc0b468e72e575",
            "7365896d3c70420ab632cef6166e36c9",
            "270c1b6980f443019b469c7c1061071d",
            "78616fdcfbc64afda6564863723cfbc7",
            "ddbedeabe54149659c88af5189789021",
            "9da5b3d0ec674e9f8832c1ef7ca429c2"
          ]
        },
        "id": "EbP6INJVi5YQ",
        "outputId": "635b957a-4b8f-4442-d1b7-ad8b5d10930b"
      },
      "execution_count": 9,
      "outputs": [
        {
          "output_type": "display_data",
          "data": {
            "text/plain": [
              "VBox(children=(HTML(value='<b>Track tasks for each participant:</b>'), Dropdown(description='Participant:', op\u2026"
            ],
            "application/vnd.jupyter.widget-view+json": {
              "version_major": 2,
              "version_minor": 0,
              "model_id": "90114d13ca5144c8a8bd69bb2f656b47"
            }
          },
          "metadata": {}
        }
      ]
    },
    {
      "cell_type": "code",
      "source": [
        "# Feature 5: Progress Visualization - Bar Chart\n",
        "\n",
        "import matplotlib.pyplot as plt\n",
        "\n",
        "# Check if there's data to show\n",
        "if not user_tasks:\n",
        "    print(\"\u26a0\ufe0f No task progress found. Use the checklist first.\")\n",
        "else:\n",
        "    names = list(user_tasks.keys())\n",
        "    completed_counts = [len(user_tasks[name]) for name in names]\n",
        "\n",
        "    # Create bar chart\n",
        "    plt.figure(figsize=(10, 5))\n",
        "    bars = plt.bar(names, completed_counts)\n",
        "\n",
        "    # Add labels above bars\n",
        "    for bar in bars:\n",
        "        yval = bar.get_height()\n",
        "        plt.text(bar.get_x() + bar.get_width()/2.0, yval + 0.1, int(yval), ha='center', va='bottom')\n",
        "\n",
        "    plt.title(\"\u2705 Tasks Completed by Participant\")\n",
        "    plt.xlabel(\"Participant\")\n",
        "    plt.ylabel(\"Tasks Completed\")\n",
        "    plt.xticks(rotation=45)\n",
        "    plt.tight_layout()\n",
        "    plt.show()\n"
      ],
      "metadata": {
        "colab": {
          "base_uri": "https://localhost:8080/",
          "height": 478
        },
        "id": "LhVGlpsmi87e",
        "outputId": "87403a40-2611-46d5-fd1d-19e19eb2722d"
      },
      "execution_count": 10,
      "outputs": [
        {
          "output_type": "stream",
          "name": "stderr",
          "text": [
            "/tmp/ipython-input-10-3892974154.py:25: UserWarning: Glyph 9989 (\\N{WHITE HEAVY CHECK MARK}) missing from font(s) DejaVu Sans.\n",
            "  plt.tight_layout()\n",
            "/usr/local/lib/python3.11/dist-packages/IPython/core/pylabtools.py:151: UserWarning: Glyph 9989 (\\N{WHITE HEAVY CHECK MARK}) missing from font(s) DejaVu Sans.\n",
            "  fig.canvas.print_figure(bytes_io, **kw)\n"
          ]
        },
        {
          "output_type": "display_data",
          "data": {
            "text/plain": [
              "<Figure size 1000x500 with 1 Axes>"
            ],
            "image/png": "[encoded data removed]"
          },
          "metadata": {}
        }
      ]
    },
    {
      "cell_type": "code",
      "source": [
        "# Attendance Pie Chart (per session)\n",
        "\n",
        "if not linked_attendance:\n",
        "    print(\"\u26a0\ufe0f No attendance records yet. Submit some attendance first.\")\n",
        "else:\n",
        "    # Create dropdown to select session\n",
        "    session_options = [rec['Session'] for rec in linked_attendance]\n",
        "    session_select = widgets.Dropdown(\n",
        "        options=session_options,\n",
        "        description='Pick Session:',\n",
        "        style={'description_width': 'initial'}\n",
        "    )\n",
        "\n",
        "    show_chart_btn = widgets.Button(\n",
        "        description='Show Attendance Chart',\n",
        "        button_style='warning',\n",
        "        icon='chart-pie'\n",
        "    )\n",
        "\n",
        "    pie_output = widgets.Output()\n",
        "\n",
        "    def show_attendance_chart(b):\n",
        "        with pie_output:\n",
        "            clear_output()\n",
        "            selected = session_select.value\n",
        "            record = next((r for r in linked_attendance if r['Session'] == selected), None)\n",
        "            if not record:\n",
        "                print(\"\u26a0\ufe0f No attendance data found.\")\n",
        "                return\n",
        "\n",
        "            present = record['Present']\n",
        "            all_names = [p['Name'] for p in profile_data]\n",
        "            absent = [name for name in all_names if name not in present]\n",
        "\n",
        "            labels = present + absent\n",
        "            sizes = [1]*len(present) + [1]*len(absent)\n",
        "            colors = ['lightgreen']*len(present) + ['lightgray']*len(absent)\n",
        "\n",
        "            plt.figure(figsize=(6,6))\n",
        "            plt.pie(sizes, labels=labels, colors=colors, startangle=140, autopct='%1.0f%%')\n",
        "            plt.title(f\"Attendance for: {selected}\")\n",
        "            plt.axis('equal')\n",
        "            plt.show()\n",
        "\n",
        "    show_chart_btn.on_click(show_attendance_chart)\n",
        "    display(widgets.VBox([session_select, show_chart_btn, pie_output]))\n"
      ],
      "metadata": {
        "colab": {
          "base_uri": "https://localhost:8080/",
          "height": 585,
          "referenced_widgets": [
            "d0477311d7ba4e04a6c8aa01464e3caf",
            "5cf55cf6808c4c1f913efccb8d699601",
            "eec6312ecf184ac7877e487ff3fe1982",
            "614fbe89563a42e8bed88a9410b4ccf5",
            "0d7e7a0c9c38433dac3156ed28e0f504",
            "64523fd11400457599ebd775ddb10eba",
            "05640b602a1d46cfaad8173a1abed5db",
            "d38d642390074d019fd1441e6dc85d75",
            "eab2329503d5440ab3a6827ab798e005",
            "70f2f73fec5d487e8aaf7a8e0155e555"
          ]
        },
        "id": "tfUzpqAzjLX8",
        "outputId": "7d3d4bf2-f324-4d70-d635-b9fbfd045fde"
      },
      "execution_count": 11,
      "outputs": [
        {
          "output_type": "display_data",
          "data": {
            "text/plain": [
              "VBox(children=(Dropdown(description='Pick Session:', options=('Mushroom Workshop',), style=DescriptionStyle(de\u2026"
            ],
            "application/vnd.jupyter.widget-view+json": {
              "version_major": 2,
              "version_minor": 0,
              "model_id": "d0477311d7ba4e04a6c8aa01464e3caf"
            }
          },
          "metadata": {}
        }
      ]
    },
    {
      "cell_type": "code",
      "source": [
        "default_tasks = [\n",
        "    {'name': 'Attend Intro Workshop', 'category': 'Workshop'},\n",
        "    {'name': 'Collect Mushroom Spores', 'category': 'Field Task'},\n",
        "    {'name': 'Prepare Growing Substrate', 'category': 'Field Task'},\n",
        "    {'name': 'Set Up Grow Bags', 'category': 'Field Task'},\n",
        "    {'name': 'Log First Growth Data', 'category': 'Analysis'},\n",
        "    {'name': 'Complete Feedback Survey', 'category': 'Survey'}\n",
        "]\n"
      ],
      "metadata": {
        "id": "gVuNk0d5jVYh"
      },
      "execution_count": 12,
      "outputs": []
    },
    {
      "cell_type": "code",
      "source": [
        "# Replace old checklist line:\n",
        "task_checkboxes = [widgets.Checkbox(value=False, description=task['name']) for task in default_tasks]\n"
      ],
      "metadata": {
        "id": "XpmcqT7fjYox"
      },
      "execution_count": 13,
      "outputs": []
    },
    {
      "cell_type": "code",
      "source": [
        "completed = [cb.description for cb in task_checkboxes if cb.value]\n"
      ],
      "metadata": {
        "id": "SRnlqwkTjaHH"
      },
      "execution_count": 14,
      "outputs": []
    },
    {
      "cell_type": "code",
      "source": [
        "# Filtered Task Completion Chart by Category\n",
        "\n",
        "# Extract all categories\n",
        "task_categories = sorted(list(set(t['category'] for t in default_tasks)))\n",
        "\n",
        "category_dropdown = widgets.Dropdown(\n",
        "    options=task_categories,\n",
        "    description='Filter by Category:',\n",
        "    style={'description_width': 'initial'}\n",
        ")\n",
        "\n",
        "show_filter_chart_btn = widgets.Button(\n",
        "    description='Show Filtered Chart',\n",
        "    button_style='info',\n",
        "    icon='filter'\n",
        ")\n",
        "\n",
        "filter_output = widgets.Output()\n",
        "\n",
        "def show_filtered_chart(b):\n",
        "    with filter_output:\n",
        "        clear_output()\n",
        "        selected_category = category_dropdown.value\n",
        "        task_names = [t['name'] for t in default_tasks if t['category'] == selected_category]\n",
        "\n",
        "        # Tally completed tasks per user, matching this category only\n",
        "        counts = []\n",
        "        names = []\n",
        "        for name in user_tasks:\n",
        "            completed = user_tasks[name]\n",
        "            count = sum(1 for task in completed if task in task_names)\n",
        "            if count > 0:\n",
        "                names.append(name)\n",
        "                counts.append(count)\n",
        "\n",
        "        if not names:\n",
        "            print(\"No matching task data yet.\")\n",
        "            return\n",
        "\n",
        "        plt.figure(figsize=(8,4))\n",
        "        bars = plt.bar(names, counts, color='skyblue')\n",
        "        for bar in bars:\n",
        "            yval = bar.get_height()\n",
        "            plt.text(bar.get_x() + bar.get_width()/2.0, yval + 0.1, int(yval), ha='center')\n",
        "        plt.title(f\"Tasks Completed in: {selected_category}\")\n",
        "        plt.xlabel(\"Participant\")\n",
        "        plt.ylabel(\"Tasks Completed\")\n",
        "        plt.xticks(rotation=45)\n",
        "        plt.tight_layout()\n",
        "        plt.show()\n",
        "\n",
        "show_filter_chart_btn.on_click(show_filtered_chart)\n",
        "display(widgets.VBox([category_dropdown, show_filter_chart_btn, filter_output]))\n"
      ],
      "metadata": {
        "colab": {
          "base_uri": "https://localhost:8080/",
          "height": 98,
          "referenced_widgets": [
            "4e75dbf6be7f4d49a3001001dc5c6daa",
            "a9fcd6cf7ce746f1bc58eae330353a45",
            "47fc54587e424c42b60190968987269c",
            "a3f4aae9dd08455b9ec1782c52bea387",
            "1a41a3dda86c4a3ca4101b497c16e5cb",
            "b194432c22c346df9120505699d22448",
            "0ff6ff8b07e445e79749a8aeba12098f",
            "214b0f72a08244c39a02b6e63d591221",
            "6d287949977b456c9d880967f162d25a",
            "f1a5c909192d4479bf360c4bcb6fda80"
          ]
        },
        "id": "HCEix8d-jbxv",
        "outputId": "917b7ed8-6d85-45c1-a8f3-8dadb2431bf5"
      },
      "execution_count": 15,
      "outputs": [
        {
          "output_type": "display_data",
          "data": {
            "text/plain": [
              "VBox(children=(Dropdown(description='Filter by Category:', options=('Analysis', 'Field Task', 'Survey', 'Works\u2026"
            ],
            "application/vnd.jupyter.widget-view+json": {
              "version_major": 2,
              "version_minor": 0,
              "model_id": "4e75dbf6be7f4d49a3001001dc5c6daa"
            }
          },
          "metadata": {}
        }
      ]
    },
    {
      "cell_type": "code",
      "source": [
        "!pip install folium\n"
      ],
      "metadata": {
        "colab": {
          "base_uri": "https://localhost:8080/"
        },
        "id": "vzRkWaQnjeEU",
        "outputId": "32e3587e-3ce1-4462-8501-01df4365ff17"
      },
      "execution_count": 16,
      "outputs": [
        {
          "output_type": "stream",
          "name": "stdout",
          "text": [
            "Requirement already satisfied: folium in /usr/local/lib/python3.11/dist-packages (0.20.0)\n",
            "Requirement already satisfied: branca>=0.6.0 in /usr/local/lib/python3.11/dist-packages (from folium) (0.8.1)\n",
            "Requirement already satisfied: jinja2>=2.9 in /usr/local/lib/python3.11/dist-packages (from folium) (3.1.6)\n",
            "Requirement already satisfied: numpy in /usr/local/lib/python3.11/dist-packages (from folium) (2.0.2)\n",
            "Requirement already satisfied: requests in /usr/local/lib/python3.11/dist-packages (from folium) (2.32.3)\n",
            "Requirement already satisfied: xyzservices in /usr/local/lib/python3.11/dist-packages (from folium) (2025.4.0)\n",
            "Requirement already satisfied: MarkupSafe>=2.0 in /usr/local/lib/python3.11/dist-packages (from jinja2>=2.9->folium) (3.0.2)\n",
            "Requirement already satisfied: charset-normalizer<4,>=2 in /usr/local/lib/python3.11/dist-packages (from requests->folium) (3.4.2)\n",
            "Requirement already satisfied: idna<4,>=2.5 in /usr/local/lib/python3.11/dist-packages (from requests->folium) (3.10)\n",
            "Requirement already satisfied: urllib3<3,>=1.21.1 in /usr/local/lib/python3.11/dist-packages (from requests->folium) (2.5.0)\n",
            "Requirement already satisfied: certifi>=2017.4.17 in /usr/local/lib/python3.11/dist-packages (from requests->folium) (2025.7.14)\n"
          ]
        }
      ]
    },
    {
      "cell_type": "code",
      "source": [
        "# Feature 6: Google Maps View of Participant Locations\n",
        "\n",
        "import folium\n",
        "from geopy.geocoders import Nominatim\n",
        "import time\n",
        "\n",
        "geolocator = Nominatim(user_agent=\"vivinate-map-app\")\n",
        "map_output = widgets.Output()\n",
        "\n",
        "# Filter valid profiles with location data\n",
        "valid_profiles = [p for p in profile_data if p.get('Location')]\n",
        "\n",
        "# Build a map centered on an average location (or default)\n",
        "m = folium.Map(location=[0, 0], zoom_start=2)\n",
        "\n",
        "for p in valid_profiles:\n",
        "    location_name = p['Location']\n",
        "    try:\n",
        "        time.sleep(1)  # avoid rate limit\n",
        "        loc = geolocator.geocode(location_name)\n",
        "        if loc:\n",
        "            folium.Marker(\n",
        "                [loc.latitude, loc.longitude],\n",
        "                popup=f\"{p['Name']} ({p['Role']}) - {location_name}\",\n",
        "                tooltip=p['Name']\n",
        "            ).add_to(m)\n",
        "    except Exception as e:\n",
        "        print(f\"\u274c Could not locate: {location_name} \u2014 {e}\")\n",
        "\n",
        "# Display the map\n",
        "with map_output:\n",
        "    clear_output()\n",
        "    display(m)\n",
        "\n",
        "display(map_output)\n"
      ],
      "metadata": {
        "colab": {
          "base_uri": "https://localhost:8080/",
          "height": 521,
          "referenced_widgets": [
            "bac60a9007ca4214b3faf1fbe624f119",
            "9967851fee8d4fc98c2895ab15b190e3"
          ]
        },
        "id": "lC0qigtzjokG",
        "outputId": "55ec6d5f-109b-42d3-fd74-bc4702801527"
      },
      "execution_count": 17,
      "outputs": [
        {
          "output_type": "stream",
          "name": "stderr",
          "text": [
            "WARNING:urllib3.connectionpool:Retrying (Retry(total=1, connect=None, read=None, redirect=None, status=None)) after connection broken by 'ReadTimeoutError(\"HTTPSConnectionPool(host='nominatim.openstreetmap.org', port=443): Read timed out. (read timeout=1)\")': /search?q=Farm&format=json&limit=1\n",
            "WARNING:urllib3.connectionpool:Retrying (Retry(total=0, connect=None, read=None, redirect=None, status=None)) after connection broken by 'ReadTimeoutError(\"HTTPSConnectionPool(host='nominatim.openstreetmap.org', port=443): Read timed out. (read timeout=1)\")': /search?q=Farm&format=json&limit=1\n"
          ]
        },
        {
          "output_type": "display_data",
          "data": {
            "text/plain": [
              "Output()"
            ],
            "application/vnd.jupyter.widget-view+json": {
              "version_major": 2,
              "version_minor": 0,
              "model_id": "bac60a9007ca4214b3faf1fbe624f119"
            }
          },
          "metadata": {}
        }
      ]
    },
    {
      "cell_type": "code",
      "source": [
        "# Structured Location Inputs\n",
        "city_input = widgets.Text(\n",
        "    value='',\n",
        "    placeholder='e.g. Tamale',\n",
        "    description='City/Town:',\n",
        "    style={'description_width': 'initial'}\n",
        ")\n",
        "\n",
        "region_input = widgets.Text(\n",
        "    value='',\n",
        "    placeholder='e.g. Northern Region',\n",
        "    description='Region/State:',\n",
        "    style={'description_width': 'initial'}\n",
        ")\n"
      ],
      "metadata": {
        "id": "dckB6DtXjrsU"
      },
      "execution_count": 18,
      "outputs": []
    },
    {
      "cell_type": "code",
      "source": [
        "form_items = widgets.VBox([name_input, role_input, location_input, submit_button, output])\n"
      ],
      "metadata": {
        "id": "_vQ0_u2Pj80l"
      },
      "execution_count": 19,
      "outputs": []
    },
    {
      "cell_type": "code",
      "source": [
        "form_items = widgets.VBox([\n",
        "    name_input,\n",
        "    role_input,\n",
        "    city_input,\n",
        "    region_input,\n",
        "    submit_button,\n",
        "    output\n",
        "])\n"
      ],
      "metadata": {
        "id": "MHytpZQej-ZN"
      },
      "execution_count": 20,
      "outputs": []
    },
    {
      "cell_type": "code",
      "source": [
        "'Location': f\"{city_input.value.strip()}, {region_input.value.strip()}\"\n"
      ],
      "metadata": {
        "colab": {
          "base_uri": "https://localhost:8080/",
          "height": 106
        },
        "id": "iJOOfcG3j_x1",
        "outputId": "5d567125-f554-4f21-de89-f006b6e5a345"
      },
      "execution_count": 21,
      "outputs": [
        {
          "output_type": "error",
          "ename": "SyntaxError",
          "evalue": "illegal target for annotation (ipython-input-21-981487478.py, line 1)",
          "traceback": [
            "\u001b[0;36m  File \u001b[0;32m\"/tmp/ipython-input-21-981487478.py\"\u001b[0;36m, line \u001b[0;32m1\u001b[0m\n\u001b[0;31m    'Location': f\"{city_input.value.strip()}, {region_input.value.strip()}\"\u001b[0m\n\u001b[0m    ^\u001b[0m\n\u001b[0;31mSyntaxError\u001b[0m\u001b[0;31m:\u001b[0m illegal target for annotation\n"
          ]
        }
      ]
    },
    {
      "cell_type": "code",
      "source": [
        "def on_submit_clicked(b):\n",
        "    with output:\n",
        "        clear_output()\n",
        "        profile = {\n",
        "            'Name': name_input.value.strip(),\n",
        "            'Role': role_input.value,\n",
        "            'Location': f\"{city_input.value.strip()}, {region_input.value.strip()}\"\n",
        "        }\n",
        "        if profile['Name'] and city_input.value.strip() and region_input.value.strip():\n",
        "            profile_data.append(profile)\n",
        "            print(\"\u2705 Profile Saved:\")\n",
        "            print(profile)\n",
        "        else:\n",
        "            print(\"\u26a0\ufe0f Please fill in all fields.\")\n"
      ],
      "metadata": {
        "id": "UP0y6DqGkB5c"
      },
      "execution_count": 22,
      "outputs": []
    },
    {
      "cell_type": "code",
      "source": [
        "# Feature 7: Admin Notes Panel\n",
        "\n",
        "admin_output = widgets.Output()\n",
        "admin_notes = {}  # Stores notes: Name -> Note\n",
        "\n",
        "# Only show users if we have profiles\n",
        "if not profile_data:\n",
        "    print(\"\u26a0\ufe0f Please create participant profiles first.\")\n",
        "else:\n",
        "    user_dropdown = widgets.Dropdown(\n",
        "        options=[p['Name'] for p in profile_data],\n",
        "        description='Select User:',\n",
        "        style={'description_width': 'initial'}\n",
        "    )\n",
        "\n",
        "    notes_area = widgets.Textarea(\n",
        "        value='',\n",
        "        placeholder='Write private notes here...',\n",
        "        description='Admin Notes:',\n",
        "        layout=widgets.Layout(width='100%', height='100px'),\n",
        "        style={'description_width': 'initial'}\n",
        "    )\n",
        "\n",
        "    save_notes_btn = widgets.Button(\n",
        "        description='Save Notes',\n",
        "        button_style='info',\n",
        "        icon='save'\n",
        "    )\n",
        "\n",
        "    def update_notes_display(change):\n",
        "        name = user_dropdown.value\n",
        "        current_note = admin_notes.get(name, '')\n",
        "        notes_area.value = current_note\n",
        "\n",
        "    user_dropdown.observe(update_notes_display, names='value')\n",
        "\n",
        "    def save_notes_handler(b):\n",
        "        with admin_output:\n",
        "            clear_output()\n",
        "            name = user_dropdown.value\n",
        "            admin_notes[name] = notes_area.value.strip()\n",
        "            print(f\"\u2705 Notes saved for {name}.\")\n",
        "\n",
        "    save_notes_btn.on_click(save_notes_handler)\n",
        "\n",
        "    display(widgets.VBox([\n",
        "        widgets.HTML(\"<b>Private Admin Notes (not visible to users):</b>\"),\n",
        "        user_dropdown,\n",
        "        notes_area,\n",
        "        save_notes_btn,\n",
        "        admin_output\n",
        "    ]))\n"
      ],
      "metadata": {
        "colab": {
          "base_uri": "https://localhost:8080/",
          "height": 246,
          "referenced_widgets": [
            "2c96518cddaf41019f3380f6b253b088",
            "0d634203e6074f4fa850b8c0c9bea5a6",
            "f6e43ed512414c0ca0f945c14b1ddca8",
            "f755abfda4bb4e899ab939b82233b720",
            "5f37d5d0494044c39cf4aedbeeab95e1",
            "b9fcc2e6f1b54254a09bf5ffa69c32fb",
            "d7f87ed0b8704b9492da949dd97c6a05",
            "32ac4bce004e494b9f08d7f130a9916c",
            "4e3cf7b470914bf6b8eae73f4fc1c07d",
            "a0517935d501403483a764904b45b832",
            "e8f5f14baad14c6c971b321656f37a36",
            "285dfd93d09b48f9bbd72a941c565eb3",
            "855e43b90825496ca19d4ae0fd7e318f",
            "6f4e8cbb50ef491eb93586d6062feec2",
            "edabc05b3b3f4917ab36657806283e66",
            "f5ddb21a0c0b4408b1035daca8e094be"
          ]
        },
        "id": "J1ciHiBEkHSI",
        "outputId": "ac5cfc52-7f26-454a-bb5b-ab1e79e0756e"
      },
      "execution_count": 23,
      "outputs": [
        {
          "output_type": "display_data",
          "data": {
            "text/plain": [
              "VBox(children=(HTML(value='<b>Private Admin Notes (not visible to users):</b>'), Dropdown(description='Select \u2026"
            ],
            "application/vnd.jupyter.widget-view+json": {
              "version_major": 2,
              "version_minor": 0,
              "model_id": "2c96518cddaf41019f3380f6b253b088"
            }
          },
          "metadata": {}
        }
      ]
    },
    {
      "cell_type": "code",
      "source": [
        "# Feature 8: Cost Tracker\n",
        "\n",
        "cost_data = {}  # Dictionary: Name -> List of costs\n",
        "\n",
        "cost_output = widgets.Output()\n",
        "\n",
        "if not profile_data:\n",
        "    print(\"\u26a0\ufe0f Add participant profiles first.\")\n",
        "else:\n",
        "    user_select = widgets.Dropdown(\n",
        "        options=[p['Name'] for p in profile_data],\n",
        "        description='Participant:',\n",
        "        style={'description_width': 'initial'}\n",
        "    )\n",
        "\n",
        "    item_input = widgets.Text(\n",
        "        placeholder='e.g. Spawn kit',\n",
        "        description='Item:',\n",
        "        style={'description_width': 'initial'}\n",
        "    )\n",
        "\n",
        "    amount_input = widgets.FloatText(\n",
        "        value=0.0,\n",
        "        description='Cost (GH\u20b5):',\n",
        "        style={'description_width': 'initial'}\n",
        "    )\n",
        "\n",
        "    add_cost_btn = widgets.Button(\n",
        "        description='Add Cost',\n",
        "        button_style='primary',\n",
        "        icon='plus'\n",
        "    )\n",
        "\n",
        "    def add_cost_handler(b):\n",
        "        with cost_output:\n",
        "            clear_output()\n",
        "            name = user_select.value\n",
        "            item = item_input.value.strip()\n",
        "            amount = amount_input.value\n",
        "            if not item or amount <= 0:\n",
        "                print(\"\u26a0\ufe0f Enter valid item and cost.\")\n",
        "                return\n",
        "\n",
        "            if name not in cost_data:\n",
        "                cost_data[name] = []\n",
        "            cost_data[name].append({'item': item, 'amount': amount})\n",
        "\n",
        "            # Display summary\n",
        "            print(f\"\ud83d\udcb0 Cost log for {name}:\")\n",
        "            total = 0\n",
        "            for entry in cost_data[name]:\n",
        "                print(f\"- {entry['item']}: GH\u20b5 {entry['amount']:.2f}\")\n",
        "                total += entry['amount']\n",
        "            print(f\"\ud83d\udcca Total Spent: GH\u20b5 {total:.2f}\")\n",
        "\n",
        "            # Reset inputs\n",
        "            item_input.value = ''\n",
        "            amount_input.value = 0.0\n",
        "\n",
        "    add_cost_btn.on_click(add_cost_handler)\n",
        "\n",
        "    # Display interface\n",
        "    display(widgets.VBox([\n",
        "        widgets.HTML(\"<b>Track materials & costs by participant:</b>\"),\n",
        "        user_select,\n",
        "        item_input,\n",
        "        amount_input,\n",
        "        add_cost_btn,\n",
        "        cost_output\n",
        "    ]))\n"
      ],
      "metadata": {
        "colab": {
          "base_uri": "https://localhost:8080/",
          "height": 229,
          "referenced_widgets": [
            "5d162455af3f45259a239b7d12b335ae",
            "b269b7431dd549e6971da2c1abdf6f9d",
            "845b4184858a42749115a91117763cb2",
            "d720cb77615e49a4806ef53a8ff07cc1",
            "c63a78a0128c4dc688d53af459bfb68c",
            "992deed3db65434b95451f2b7e08af45",
            "4e2de7b217c040648d5ea7b7a229839d",
            "fe9892911d80457784e943b5fd2dbf25",
            "0a3ae717166c48f2959dacf33a89158c",
            "a24f20ae4d9b44f89e520bb9e26dfea0",
            "5aae3f5644a5475bb1a36490fdcfa27f",
            "0c44bd3da9d3461fa2bc271580ff691f",
            "fb51e5c73e2146e7b5b75a6c286e0caf",
            "81160261b1844aa5a0fa9f99e4660c93",
            "e0a14a75140947beb0ee9c8178018594",
            "301314bbc71243cba55cca812e5901a1",
            "533f87af7b3d4f2b9c6e719bd5df2f01",
            "e37a01acab61493b8367faf7eba1c90a",
            "943b7c68a390443cbc754f23f25945fd"
          ]
        },
        "id": "JI5XaeoMkPpC",
        "outputId": "b19f08c7-39f1-463f-fed9-6515ca1e9712"
      },
      "execution_count": 24,
      "outputs": [
        {
          "output_type": "display_data",
          "data": {
            "text/plain": [
              "VBox(children=(HTML(value='<b>Track materials & costs by participant:</b>'), Dropdown(description='Participant\u2026"
            ],
            "application/vnd.jupyter.widget-view+json": {
              "version_major": 2,
              "version_minor": 0,
              "model_id": "5d162455af3f45259a239b7d12b335ae"
            }
          },
          "metadata": {}
        }
      ]
    },
    {
      "cell_type": "code",
      "source": [
        "category_input = widgets.Dropdown(\n",
        "    options=['Tools', 'Transport', 'Materials', 'Labor', 'Water', 'Other'],\n",
        "    description='Category:',\n",
        "    style={'description_width': 'initial'}\n",
        ")\n"
      ],
      "metadata": {
        "id": "jEx-YgGmkb1U"
      },
      "execution_count": 25,
      "outputs": []
    },
    {
      "cell_type": "code",
      "source": [
        "cost_data[name].append({\n",
        "    'item': item,\n",
        "    'amount': amount,\n",
        "    'category': category_input.value\n",
        "})\n"
      ],
      "metadata": {
        "colab": {
          "base_uri": "https://localhost:8080/",
          "height": 211
        },
        "id": "6PRo5dMBkmWr",
        "outputId": "4271d5ba-f69f-433a-bec8-8b6ffa009db4"
      },
      "execution_count": 26,
      "outputs": [
        {
          "output_type": "error",
          "ename": "NameError",
          "evalue": "name 'name' is not defined",
          "traceback": [
            "\u001b[0;31m---------------------------------------------------------------------------\u001b[0m",
            "\u001b[0;31mNameError\u001b[0m                                 Traceback (most recent call last)",
            "\u001b[0;32m/tmp/ipython-input-26-2223451509.py\u001b[0m in \u001b[0;36m<cell line: 0>\u001b[0;34m()\u001b[0m\n\u001b[0;32m----> 1\u001b[0;31m cost_data[name].append({\n\u001b[0m\u001b[1;32m      2\u001b[0m     \u001b[0;34m'item'\u001b[0m\u001b[0;34m:\u001b[0m \u001b[0mitem\u001b[0m\u001b[0;34m,\u001b[0m\u001b[0;34m\u001b[0m\u001b[0;34m\u001b[0m\u001b[0m\n\u001b[1;32m      3\u001b[0m     \u001b[0;34m'amount'\u001b[0m\u001b[0;34m:\u001b[0m \u001b[0mamount\u001b[0m\u001b[0;34m,\u001b[0m\u001b[0;34m\u001b[0m\u001b[0;34m\u001b[0m\u001b[0m\n\u001b[1;32m      4\u001b[0m     \u001b[0;34m'category'\u001b[0m\u001b[0;34m:\u001b[0m \u001b[0mcategory_input\u001b[0m\u001b[0;34m.\u001b[0m\u001b[0mvalue\u001b[0m\u001b[0;34m\u001b[0m\u001b[0;34m\u001b[0m\u001b[0m\n\u001b[1;32m      5\u001b[0m })\n",
            "\u001b[0;31mNameError\u001b[0m: name 'name' is not defined"
          ]
        }
      ]
    },
    {
      "cell_type": "code",
      "source": [
        "# FULL FEATURE 8: Cost Tracker with Categories + ROI Chart\n",
        "\n",
        "import matplotlib.pyplot as plt\n",
        "import ipywidgets as widgets\n",
        "from IPython.display import display, clear_output\n",
        "\n",
        "# --- In-Memory Storage ---\n",
        "cost_data = {}       # Name -> list of cost entries\n",
        "income_data = {}     # Name -> income float\n",
        "profile_data = [{'Name': 'Ama', 'Role': 'Participant', 'Location': 'Kumasi, Ashanti Region'},\n",
        "                {'Name': 'Kwame', 'Role': 'Participant', 'Location': 'Tamale, Northern Region'}]  # Example users\n",
        "\n",
        "# --- Cost Tracker Interface ---\n",
        "cost_output = widgets.Output()\n",
        "\n",
        "user_select = widgets.Dropdown(\n",
        "    options=[p['Name'] for p in profile_data],\n",
        "    description='Participant:',\n",
        "    style={'description_width': 'initial'}\n",
        ")\n",
        "\n",
        "item_input = widgets.Text(\n",
        "    placeholder='e.g. Spawn kit',\n",
        "    description='Item:',\n",
        "    style={'description_width': 'initial'}\n",
        ")\n",
        "\n",
        "amount_input = widgets.FloatText(\n",
        "    value=0.0,\n",
        "    description='Cost (GH\u20b5):',\n",
        "    style={'description_width': 'initial'}\n",
        ")\n",
        "\n",
        "category_input = widgets.Dropdown(\n",
        "    options=['Tools', 'Transport', 'Materials', 'Labor', 'Water', 'Other'],\n",
        "    description='Category:',\n",
        "    style={'description_width': 'initial'}\n",
        ")\n",
        "\n",
        "add_cost_btn = widgets.Button(\n",
        "    description='Add Cost',\n",
        "    button_style='primary',\n",
        "    icon='plus'\n",
        ")\n",
        "\n",
        "def add_cost_handler(b):\n",
        "    with cost_output:\n",
        "        clear_output()\n",
        "        name = user_select.value\n",
        "        item = item_input.value.strip()\n",
        "        amount = amount_input.value\n",
        "        category = category_input.value\n",
        "        if not item or amount <= 0:\n",
        "            print(\"\u26a0\ufe0f Enter valid item and cost.\")\n",
        "            return\n",
        "        if name not in cost_data:\n",
        "            cost_data[name] = []\n",
        "        cost_data[name].append({'item': item, 'amount': amount, 'category': category})\n",
        "\n",
        "        # Display summary\n",
        "        print(f\"\ud83d\udcb0 Cost log for {name}:\")\n",
        "        total = 0\n",
        "        for entry in cost_data[name]:\n",
        "            print(f\"- {entry['item']} ({entry['category']}): GH\u20b5 {entry['amount']:.2f}\")\n",
        "            total += entry['amount']\n",
        "        print(f\"\ud83d\udcca Total Spent: GH\u20b5 {total:.2f}\")\n",
        "        item_input.value = ''\n",
        "        amount_input.value = 0.0\n",
        "\n",
        "add_cost_btn.on_click(add_cost_handler)\n",
        "\n",
        "display(widgets.VBox([\n",
        "    widgets.HTML(\"<h3>\ud83d\udd27 Track Materials & Costs by Participant</h3>\"),\n",
        "    user_select,\n",
        "    item_input,\n",
        "    amount_input,\n",
        "    category_input,\n",
        "    add_cost_btn,\n",
        "    cost_output\n",
        "]))\n",
        "\n",
        "# --- Income Input Section ---\n",
        "income_output = widgets.Output()\n",
        "\n",
        "income_user = widgets.Dropdown(\n",
        "    options=[p['Name'] for p in profile_data],\n",
        "    description='Participant:',\n",
        "    style={'description_width': 'initial'}\n",
        ")\n",
        "\n",
        "income_input = widgets.FloatText(\n",
        "    value=0.0,\n",
        "    description='Income (GH\u20b5):',\n",
        "    style={'description_width': 'initial'}\n",
        ")\n",
        "\n",
        "save_income_btn = widgets.Button(\n",
        "    description='Save Income',\n",
        "    button_style='success',\n",
        "    icon='money-check-alt'\n",
        ")\n",
        "\n",
        "def save_income(b):\n",
        "    with income_output:\n",
        "        clear_output()\n",
        "        name = income_user.value\n",
        "        amount = income_input.value\n",
        "        if amount <= 0:\n",
        "            print(\"\u26a0\ufe0f Enter a valid income amount.\")\n",
        "            return\n",
        "        income_data[name] = amount\n",
        "        print(f\"\u2705 GH\u20b5 {amount:.2f} income saved for {name}\")\n",
        "\n",
        "save_income_btn.on_click(save_income)\n",
        "\n",
        "display(widgets.VBox([\n",
        "    widgets.HTML(\"<h3>\ud83d\udcb0 Log Income per Participant</h3>\"),\n",
        "    income_user,\n",
        "    income_input,\n",
        "    save_income_btn,\n",
        "    income_output\n",
        "]))\n",
        "\n",
        "# --- ROI Visualization ---\n",
        "roi_output = widgets.Output()\n",
        "roi_btn = widgets.Button(\n",
        "    description='Show ROI Chart',\n",
        "    button_style='info',\n",
        "    icon='chart-line'\n",
        ")\n",
        "\n",
        "def show_roi(b):\n",
        "    with roi_output:\n",
        "        clear_output()\n",
        "        names = []\n",
        "        costs = []\n",
        "        income = []\n",
        "        for p in profile_data:\n",
        "            name = p['Name']\n",
        "            total_cost = sum(e['amount'] for e in cost_data.get(name, []))\n",
        "            total_income = income_data.get(name, 0)\n",
        "            if total_cost or total_income:\n",
        "                names.append(name)\n",
        "                costs.append(total_cost)\n",
        "                income.append(total_income)\n",
        "\n",
        "        if not names:\n",
        "            print(\"\u26a0\ufe0f No ROI data to show yet.\")\n",
        "            return\n",
        "\n",
        "        x = range(len(names))\n",
        "        plt.figure(figsize=(10, 5))\n",
        "        plt.bar(x, costs, width=0.4, label='Total Cost', color='salmon', align='center')\n",
        "        plt.bar([i + 0.4 for i in x], income, width=0.4, label='Income', color='lightgreen', align='center')\n",
        "        plt.xticks([i + 0.2 for i in x], names, rotation=45)\n",
        "        plt.ylabel(\"GH\u20b5\")\n",
        "        plt.title(\"ROI: Cost vs. Income per Participant\")\n",
        "        plt.legend()\n",
        "        plt.tight_layout()\n",
        "        plt.show()\n",
        "\n",
        "roi_btn.on_click(show_roi)\n",
        "\n",
        "display(widgets.VBox([\n",
        "    widgets.HTML(\"<h3>\ud83d\udcca ROI Comparison Chart (Income vs. Cost)</h3>\"),\n",
        "    roi_btn,\n",
        "    roi_output\n",
        "]))\n"
      ],
      "metadata": {
        "colab": {
          "base_uri": "https://localhost:8080/",
          "height": 899,
          "referenced_widgets": [
            "7861c4133ef940cc8d8ac26d621ab300",
            "fc0e74ff936c4f189ea383c9a8a3e0ce",
            "940a750e04e7432fb0c01ce50ad094f4",
            "a129a3170c6842ddacbaa678083594d9",
            "6c7921f450684653b461043d07b54ffe",
            "4c23eb8a99704cbb88ff04b4dc5f34e3",
            "fc382a70be53469ebff99fa5551a1186",
            "1528229c0e4d4f40b3bacca68e134210",
            "a507922395ef493f974459a43d7bddbe",
            "be889377fd624132873faf181f148148",
            "7b1d2906655e4b86b09904798f105669",
            "6572a30be0754cd38c9e8000047713d7",
            "d9fb0a80b1a1499ba02bfb19e115b204",
            "4560619e001d49bd9d14741d943b0ae6",
            "6505f83aafdc459faa2587c04f31c1b9",
            "3bd27d9b1b9f4e6bb30492f912ba76ce",
            "30c1aa4c8bff46daa86a91b30d749ef9",
            "64eb4acb374d448381fa512869c7d310",
            "01e9532c7b084e3bb329622fc3154b8e",
            "0de19cc8f2524443b641fa5acac4ec8f",
            "c29056a5f28b4558885aacfaa32d5fff",
            "34aaa9f4fcdc4b0596321e224080b054",
            "a7ce825f88a74950bc83a5c27de18f0e",
            "c59b629bd0dc442e93b957dfbd07a3f5",
            "9959900909804236b1b09f5cbb652d7e",
            "9114aa52a6f74ddda510f6cb19217ba9",
            "8d0ea4832b764cf8b2ed09ef8a61ed7e",
            "15c2f5cfa40c4fe981813f85598bf9e7",
            "6d808478474144fda4f61f27421c0c2f",
            "f638adcaa6754a0eb2d04639040016b8",
            "4099cac13bd84c778fe041a612b8fdc7",
            "3dfa541f2ef64a919d0a3726d8896167",
            "9d76b89fb3844960beb738419a3ec837",
            "1c07d82a34e048fe8be72f43c559d91a",
            "2e624593cf80480cbb145875eb4e41dd",
            "5b9fc9e6aba8440eaf4d422a9e3da773",
            "9c9a6b01ee1c4a4ba93aec5eaf4f6e54",
            "7009800c02eb4093944a9276667a4ece",
            "bd3ad89f74c14890a314ef24f6a230f3",
            "9593c276b8484cacbdabce390150701d",
            "edad0bebcc5e4b40a8e8636f3fa02ad5",
            "3fcae1b83bf742db86a80b9a013ee4d8",
            "b0baeb3933fe4aa9b6da7fe6fea09c9a",
            "e596e658754944b1b6b29c3860ad0639",
            "c35f98cece5740209e335e4137f4fdb1",
            "78db06c2567c4e4099006825e8464b95",
            "8122086f7cf74d3cb0b2fb45b4723e8a",
            "2b095a2f99394996a2f50750228a26ab"
          ]
        },
        "id": "qPhPeiRkknuj",
        "outputId": "179d1c8c-cb86-4064-91ee-7cc2091352de"
      },
      "execution_count": 27,
      "outputs": [
        {
          "output_type": "display_data",
          "data": {
            "text/plain": [
              "VBox(children=(HTML(value='<h3>\ud83d\udd27 Track Materials & Costs by Participant</h3>'), Dropdown(description='Particip\u2026"
            ],
            "application/vnd.jupyter.widget-view+json": {
              "version_major": 2,
              "version_minor": 0,
              "model_id": "7861c4133ef940cc8d8ac26d621ab300"
            }
          },
          "metadata": {}
        },
        {
          "output_type": "display_data",
          "data": {
            "text/plain": [
              "VBox(children=(HTML(value='<h3>\ud83d\udcb0 Log Income per Participant</h3>'), Dropdown(description='Participant:', optio\u2026"
            ],
            "application/vnd.jupyter.widget-view+json": {
              "version_major": 2,
              "version_minor": 0,
              "model_id": "a7ce825f88a74950bc83a5c27de18f0e"
            }
          },
          "metadata": {}
        },
        {
          "output_type": "display_data",
          "data": {
            "text/plain": [
              "VBox(children=(HTML(value='<h3>\ud83d\udcca ROI Comparison Chart (Income vs. Cost)</h3>'), Button(button_style='info', de\u2026"
            ],
            "application/vnd.jupyter.widget-view+json": {
              "version_major": 2,
              "version_minor": 0,
              "model_id": "bd3ad89f74c14890a314ef24f6a230f3"
            }
          },
          "metadata": {}
        }
      ]
    },
    {
      "cell_type": "code",
      "source": [
        "import json\n",
        "\n",
        "input_path = '/content/Vivinate_Program_Tracker.ipynb'  # or use your current notebook name\n",
        "output_path = '/content/Vivinate_Program_Tracker_CLEAN.ipynb'\n",
        "\n",
        "with open(input_path, 'r') as f:\n",
        "    notebook = json.load(f)\n",
        "\n",
        "# Remove problematic metadata\n",
        "if 'widgets' in notebook['metadata']:\n",
        "    del notebook['metadata']['widgets']\n",
        "\n",
        "with open(output_path, 'w') as f:\n",
        "    json.dump(notebook, f, indent=2)\n",
        "\n",
        "print(f\"\u2705 Cleaned notebook saved to: {output_path}\")\n"
      ],
      "metadata": {
        "colab": {
          "base_uri": "https://localhost:8080/",
          "height": 211
        },
        "id": "h3nC27dSkvN7",
        "outputId": "8f39fa9b-8faa-4f8c-9637-aef971b86373"
      },
      "execution_count": 28,
      "outputs": [
        {
          "output_type": "error",
          "ename": "FileNotFoundError",
          "evalue": "[Errno 2] No such file or directory: '/content/Vivinate_Program_Tracker.ipynb'",
          "traceback": [
            "\u001b[0;31m---------------------------------------------------------------------------\u001b[0m",
            "\u001b[0;31mFileNotFoundError\u001b[0m                         Traceback (most recent call last)",
            "\u001b[0;32m/tmp/ipython-input-28-3196588955.py\u001b[0m in \u001b[0;36m<cell line: 0>\u001b[0;34m()\u001b[0m\n\u001b[1;32m      4\u001b[0m \u001b[0moutput_path\u001b[0m \u001b[0;34m=\u001b[0m \u001b[0;34m'/content/Vivinate_Program_Tracker_CLEAN.ipynb'\u001b[0m\u001b[0;34m\u001b[0m\u001b[0;34m\u001b[0m\u001b[0m\n\u001b[1;32m      5\u001b[0m \u001b[0;34m\u001b[0m\u001b[0m\n\u001b[0;32m----> 6\u001b[0;31m \u001b[0;32mwith\u001b[0m \u001b[0mopen\u001b[0m\u001b[0;34m(\u001b[0m\u001b[0minput_path\u001b[0m\u001b[0;34m,\u001b[0m \u001b[0;34m'r'\u001b[0m\u001b[0;34m)\u001b[0m \u001b[0;32mas\u001b[0m \u001b[0mf\u001b[0m\u001b[0;34m:\u001b[0m\u001b[0;34m\u001b[0m\u001b[0;34m\u001b[0m\u001b[0m\n\u001b[0m\u001b[1;32m      7\u001b[0m     \u001b[0mnotebook\u001b[0m \u001b[0;34m=\u001b[0m \u001b[0mjson\u001b[0m\u001b[0;34m.\u001b[0m\u001b[0mload\u001b[0m\u001b[0;34m(\u001b[0m\u001b[0mf\u001b[0m\u001b[0;34m)\u001b[0m\u001b[0;34m\u001b[0m\u001b[0;34m\u001b[0m\u001b[0m\n\u001b[1;32m      8\u001b[0m \u001b[0;34m\u001b[0m\u001b[0m\n",
            "\u001b[0;31mFileNotFoundError\u001b[0m: [Errno 2] No such file or directory: '/content/Vivinate_Program_Tracker.ipynb'"
          ]
        }
      ]
    },
    {
      "cell_type": "code",
      "source": [],
      "metadata": {
        "id": "t7Vtyb3Wn60L"
      },
      "execution_count": null,
      "outputs": []
    }
  ]
}