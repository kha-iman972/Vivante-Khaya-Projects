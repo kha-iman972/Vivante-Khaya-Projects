{
  "nbformat": 4,
  "nbformat_minor": 0,
  "metadata": {
    "colab": {
      "provenance": [],
      "authorship_tag": "ABX9TyPZVJE/h6O/0yGTsZBhOwXu",
      "include_colab_link": true
    },
    "kernelspec": {
      "name": "python3",
      "display_name": "Python 3"
    },
    "language_info": {
      "name": "python"
    }
  },
  "cells": [
    {
      "cell_type": "markdown",
      "metadata": {
        "id": "view-in-github",
        "colab_type": "text"
      },
      "source": [
        "<a href=\"https://colab.research.google.com/github/kha-iman972/Vivante-Khaya-Projects/blob/master/mushroom_curriculum_quantum_simulations.ipynb\" target=\"_parent\"><img src=\"https://colab.research.google.com/assets/colab-badge.svg\" alt=\"Open In Colab\"/></a>"
      ]
    },
    {
      "cell_type": "code",
      "source": [
        "\"\"\"\n",
        "Mushroom Cultivation Curriculum – Quantum Simulation Workbook\n",
        "Developed by: Khaya Yankey\n",
        "Organization: Vivinate Farms\n",
        "Date: July 2025\n",
        "\n",
        "This notebook contains quantum-enhanced simulations for key decisions in\n",
        "mushroom cultivation, designed to complement the 7-stage curriculum.\n",
        "\n",
        "Simulations included:\n",
        "1. Strain Selection\n",
        "2. Substrate Evaluation\n",
        "3. Inoculation Ratios\n",
        "4. Incubation Conditions\n",
        "5. Initiation Triggers\n",
        "6. Fruiting Environment\n",
        "7. Harvest Timing\n",
        "8. Mineral Additives\n",
        "9. Activity-Based Scenario Testing\n",
        "\n",
        "Each section uses Pennylane and Python to model variables such as yield,\n",
        "growth speed, contamination risk, and more.\n",
        "\n",
        "To run this notebook:\n",
        "- Use Google Colab (recommended)\n",
        "- Install Pennylane: !pip install pennylane\n",
        "- Each section is self-contained and documented\n",
        "\n",
        "Final curriculum and workbook available at:\n",
        "https://github.com/[your-username]/Vivinate-Khaya-Projects\n",
        "\"\"\"\n"
      ],
      "metadata": {
        "colab": {
          "base_uri": "https://localhost:8080/",
          "height": 192
        },
        "id": "55lN2v2gYpcq",
        "outputId": "42a82ba0-f97f-493c-a17e-6348bf694faa"
      },
      "execution_count": 13,
      "outputs": [
        {
          "output_type": "execute_result",
          "data": {
            "text/plain": [
              "'\\nMushroom Cultivation Curriculum – Quantum Simulation Workbook\\nDeveloped by: Khaya Yankey\\nOrganization: Vivinate Farms\\nDate: July 2025\\n\\nThis notebook contains quantum-enhanced simulations for key decisions in \\nmushroom cultivation, designed to complement the 7-stage curriculum.\\n\\nSimulations included:\\n1. Strain Selection\\n2. Substrate Evaluation\\n3. Inoculation Ratios\\n4. Incubation Conditions\\n5. Initiation Triggers\\n6. Fruiting Environment\\n7. Harvest Timing\\n8. Mineral Additives\\n9. Activity-Based Scenario Testing\\n\\nEach section uses Pennylane and Python to model variables such as yield,\\ngrowth speed, contamination risk, and more.\\n\\nTo run this notebook:\\n- Use Google Colab (recommended)\\n- Install Pennylane: !pip install pennylane\\n- Each section is self-contained and documented\\n\\nFinal curriculum and workbook available at:\\nhttps://github.com/[your-username]/Vivinate-Khaya-Projects\\n'"
            ],
            "application/vnd.google.colaboratory.intrinsic+json": {
              "type": "string"
            }
          },
          "metadata": {},
          "execution_count": 13
        }
      ]
    },
    {
      "cell_type": "code",
      "execution_count": 1,
      "metadata": {
        "colab": {
          "base_uri": "https://localhost:8080/"
        },
        "id": "DDzB5ouER8Di",
        "outputId": "78ae0b71-5f6b-44fd-cc90-8edda51dc34a"
      },
      "outputs": [
        {
          "output_type": "stream",
          "name": "stdout",
          "text": [
            "Collecting pennylane\n",
            "  Downloading pennylane-0.42.1-py3-none-any.whl.metadata (11 kB)\n",
            "Requirement already satisfied: scipy in /usr/local/lib/python3.11/dist-packages (from pennylane) (1.16.0)\n",
            "Requirement already satisfied: networkx in /usr/local/lib/python3.11/dist-packages (from pennylane) (3.5)\n",
            "Collecting rustworkx>=0.14.0 (from pennylane)\n",
            "  Downloading rustworkx-0.16.0-cp39-abi3-manylinux_2_17_x86_64.manylinux2014_x86_64.whl.metadata (10 kB)\n",
            "Requirement already satisfied: autograd in /usr/local/lib/python3.11/dist-packages (from pennylane) (1.8.0)\n",
            "Collecting appdirs (from pennylane)\n",
            "  Downloading appdirs-1.4.4-py2.py3-none-any.whl.metadata (9.0 kB)\n",
            "Collecting autoray>=0.6.11 (from pennylane)\n",
            "  Downloading autoray-0.7.2-py3-none-any.whl.metadata (5.8 kB)\n",
            "Requirement already satisfied: cachetools in /usr/local/lib/python3.11/dist-packages (from pennylane) (5.5.2)\n",
            "Collecting pennylane-lightning>=0.42 (from pennylane)\n",
            "  Downloading pennylane_lightning-0.42.0-cp311-cp311-manylinux_2_28_x86_64.whl.metadata (11 kB)\n",
            "Requirement already satisfied: requests in /usr/local/lib/python3.11/dist-packages (from pennylane) (2.32.3)\n",
            "Requirement already satisfied: tomlkit in /usr/local/lib/python3.11/dist-packages (from pennylane) (0.13.3)\n",
            "Requirement already satisfied: typing_extensions in /usr/local/lib/python3.11/dist-packages (from pennylane) (4.14.1)\n",
            "Requirement already satisfied: packaging in /usr/local/lib/python3.11/dist-packages (from pennylane) (25.0)\n",
            "Collecting diastatic-malt (from pennylane)\n",
            "  Downloading diastatic_malt-2.15.2-py3-none-any.whl.metadata (2.6 kB)\n",
            "Requirement already satisfied: numpy in /usr/local/lib/python3.11/dist-packages (from pennylane) (2.0.2)\n",
            "Collecting scipy-openblas32>=0.3.26 (from pennylane-lightning>=0.42->pennylane)\n",
            "  Downloading scipy_openblas32-0.3.30.0.2-py3-none-manylinux2014_x86_64.manylinux_2_17_x86_64.whl.metadata (57 kB)\n",
            "\u001b[2K     \u001b[90m━━━━━━━━━━━━━━━━━━━━━━━━━━━━━━━━━━━━━━━━\u001b[0m \u001b[32m57.1/57.1 kB\u001b[0m \u001b[31m2.4 MB/s\u001b[0m eta \u001b[36m0:00:00\u001b[0m\n",
            "\u001b[?25hRequirement already satisfied: astunparse in /usr/local/lib/python3.11/dist-packages (from diastatic-malt->pennylane) (1.6.3)\n",
            "Requirement already satisfied: gast in /usr/local/lib/python3.11/dist-packages (from diastatic-malt->pennylane) (0.6.0)\n",
            "Requirement already satisfied: termcolor in /usr/local/lib/python3.11/dist-packages (from diastatic-malt->pennylane) (3.1.0)\n",
            "Requirement already satisfied: charset-normalizer<4,>=2 in /usr/local/lib/python3.11/dist-packages (from requests->pennylane) (3.4.2)\n",
            "Requirement already satisfied: idna<4,>=2.5 in /usr/local/lib/python3.11/dist-packages (from requests->pennylane) (3.10)\n",
            "Requirement already satisfied: urllib3<3,>=1.21.1 in /usr/local/lib/python3.11/dist-packages (from requests->pennylane) (2.5.0)\n",
            "Requirement already satisfied: certifi>=2017.4.17 in /usr/local/lib/python3.11/dist-packages (from requests->pennylane) (2025.7.14)\n",
            "Requirement already satisfied: wheel<1.0,>=0.23.0 in /usr/local/lib/python3.11/dist-packages (from astunparse->diastatic-malt->pennylane) (0.45.1)\n",
            "Requirement already satisfied: six<2.0,>=1.6.1 in /usr/local/lib/python3.11/dist-packages (from astunparse->diastatic-malt->pennylane) (1.17.0)\n",
            "Downloading pennylane-0.42.1-py3-none-any.whl (4.8 MB)\n",
            "\u001b[2K   \u001b[90m━━━━━━━━━━━━━━━━━━━━━━━━━━━━━━━━━━━━━━━━\u001b[0m \u001b[32m4.8/4.8 MB\u001b[0m \u001b[31m43.0 MB/s\u001b[0m eta \u001b[36m0:00:00\u001b[0m\n",
            "\u001b[?25hDownloading autoray-0.7.2-py3-none-any.whl (930 kB)\n",
            "\u001b[2K   \u001b[90m━━━━━━━━━━━━━━━━━━━━━━━━━━━━━━━━━━━━━━━━\u001b[0m \u001b[32m930.8/930.8 kB\u001b[0m \u001b[31m37.9 MB/s\u001b[0m eta \u001b[36m0:00:00\u001b[0m\n",
            "\u001b[?25hDownloading pennylane_lightning-0.42.0-cp311-cp311-manylinux_2_28_x86_64.whl (2.6 MB)\n",
            "\u001b[2K   \u001b[90m━━━━━━━━━━━━━━━━━━━━━━━━━━━━━━━━━━━━━━━━\u001b[0m \u001b[32m2.6/2.6 MB\u001b[0m \u001b[31m58.6 MB/s\u001b[0m eta \u001b[36m0:00:00\u001b[0m\n",
            "\u001b[?25hDownloading rustworkx-0.16.0-cp39-abi3-manylinux_2_17_x86_64.manylinux2014_x86_64.whl (2.1 MB)\n",
            "\u001b[2K   \u001b[90m━━━━━━━━━━━━━━━━━━━━━━━━━━━━━━━━━━━━━━━━\u001b[0m \u001b[32m2.1/2.1 MB\u001b[0m \u001b[31m42.8 MB/s\u001b[0m eta \u001b[36m0:00:00\u001b[0m\n",
            "\u001b[?25hDownloading appdirs-1.4.4-py2.py3-none-any.whl (9.6 kB)\n",
            "Downloading diastatic_malt-2.15.2-py3-none-any.whl (167 kB)\n",
            "\u001b[2K   \u001b[90m━━━━━━━━━━━━━━━━━━━━━━━━━━━━━━━━━━━━━━━━\u001b[0m \u001b[32m167.9/167.9 kB\u001b[0m \u001b[31m12.0 MB/s\u001b[0m eta \u001b[36m0:00:00\u001b[0m\n",
            "\u001b[?25hDownloading scipy_openblas32-0.3.30.0.2-py3-none-manylinux2014_x86_64.manylinux_2_17_x86_64.whl (8.6 MB)\n",
            "\u001b[2K   \u001b[90m━━━━━━━━━━━━━━━━━━━━━━━━━━━━━━━━━━━━━━━━\u001b[0m \u001b[32m8.6/8.6 MB\u001b[0m \u001b[31m63.8 MB/s\u001b[0m eta \u001b[36m0:00:00\u001b[0m\n",
            "\u001b[?25hInstalling collected packages: appdirs, scipy-openblas32, rustworkx, autoray, diastatic-malt, pennylane-lightning, pennylane\n",
            "Successfully installed appdirs-1.4.4 autoray-0.7.2 diastatic-malt-2.15.2 pennylane-0.42.1 pennylane-lightning-0.42.0 rustworkx-0.16.0 scipy-openblas32-0.3.30.0.2\n"
          ]
        }
      ],
      "source": [
        "!pip install pennylane\n"
      ]
    },
    {
      "cell_type": "code",
      "source": [
        "import pennylane as qml\n",
        "from pennylane import numpy as np\n",
        "\n",
        "# Define the device\n",
        "dev = qml.device(\"default.qubit\", wires=3)\n",
        "\n",
        "# Define example scores for each strain: [Growth, Yield, Climate]\n",
        "strain_scores = {\n",
        "    \"Strain A\": [0.9, 0.6, 0.3],\n",
        "    \"Strain B\": [0.3, 0.9, 0.9],\n",
        "    \"Strain C\": [0.6, 0.6, 0.9]\n",
        "}\n",
        "\n",
        "# Set custom weights (change if needed)\n",
        "weights = np.array([0.5, 0.3, 0.2])  # prioritize Growth most\n",
        "\n",
        "@qml.qnode(dev)\n",
        "def quantum_eval(x):\n",
        "    for i in range(3):\n",
        "        qml.RY(x[i]*np.pi, wires=i)\n",
        "    return [qml.expval(qml.PauliZ(i)) for i in range(3)]\n",
        "\n",
        "def score_strain(name, scores):\n",
        "    x = np.array(scores)\n",
        "    result = quantum_eval(x)\n",
        "    # Lower result = better (due to how expectation values work)\n",
        "    weighted = np.dot(-result, weights)  # invert for better = higher\n",
        "    return weighted\n",
        "\n",
        "# Compare strains\n",
        "for name, scores in strain_scores.items():\n",
        "    value = score_strain(name, scores)\n",
        "    print(f\"{name} score: {value:.4f}\")\n"
      ],
      "metadata": {
        "colab": {
          "base_uri": "https://localhost:8080/",
          "height": 315
        },
        "id": "IZyj5P85SIMN",
        "outputId": "3285f231-33da-48ad-fb71-6b9e9a445cce"
      },
      "execution_count": 2,
      "outputs": [
        {
          "output_type": "error",
          "ename": "TypeError",
          "evalue": "bad operand type for unary -: 'list'",
          "traceback": [
            "\u001b[0;31m---------------------------------------------------------------------------\u001b[0m",
            "\u001b[0;31mTypeError\u001b[0m                                 Traceback (most recent call last)",
            "\u001b[0;32m/tmp/ipython-input-2-774528778.py\u001b[0m in \u001b[0;36m<cell line: 0>\u001b[0;34m()\u001b[0m\n\u001b[1;32m     30\u001b[0m \u001b[0;31m# Compare strains\u001b[0m\u001b[0;34m\u001b[0m\u001b[0;34m\u001b[0m\u001b[0m\n\u001b[1;32m     31\u001b[0m \u001b[0;32mfor\u001b[0m \u001b[0mname\u001b[0m\u001b[0;34m,\u001b[0m \u001b[0mscores\u001b[0m \u001b[0;32min\u001b[0m \u001b[0mstrain_scores\u001b[0m\u001b[0;34m.\u001b[0m\u001b[0mitems\u001b[0m\u001b[0;34m(\u001b[0m\u001b[0;34m)\u001b[0m\u001b[0;34m:\u001b[0m\u001b[0;34m\u001b[0m\u001b[0;34m\u001b[0m\u001b[0m\n\u001b[0;32m---> 32\u001b[0;31m     \u001b[0mvalue\u001b[0m \u001b[0;34m=\u001b[0m \u001b[0mscore_strain\u001b[0m\u001b[0;34m(\u001b[0m\u001b[0mname\u001b[0m\u001b[0;34m,\u001b[0m \u001b[0mscores\u001b[0m\u001b[0;34m)\u001b[0m\u001b[0;34m\u001b[0m\u001b[0;34m\u001b[0m\u001b[0m\n\u001b[0m\u001b[1;32m     33\u001b[0m     \u001b[0mprint\u001b[0m\u001b[0;34m(\u001b[0m\u001b[0;34mf\"{name} score: {value:.4f}\"\u001b[0m\u001b[0;34m)\u001b[0m\u001b[0;34m\u001b[0m\u001b[0;34m\u001b[0m\u001b[0m\n",
            "\u001b[0;32m/tmp/ipython-input-2-774528778.py\u001b[0m in \u001b[0;36mscore_strain\u001b[0;34m(name, scores)\u001b[0m\n\u001b[1;32m     25\u001b[0m     \u001b[0mresult\u001b[0m \u001b[0;34m=\u001b[0m \u001b[0mquantum_eval\u001b[0m\u001b[0;34m(\u001b[0m\u001b[0mx\u001b[0m\u001b[0;34m)\u001b[0m\u001b[0;34m\u001b[0m\u001b[0;34m\u001b[0m\u001b[0m\n\u001b[1;32m     26\u001b[0m     \u001b[0;31m# Lower result = better (due to how expectation values work)\u001b[0m\u001b[0;34m\u001b[0m\u001b[0;34m\u001b[0m\u001b[0m\n\u001b[0;32m---> 27\u001b[0;31m     \u001b[0mweighted\u001b[0m \u001b[0;34m=\u001b[0m \u001b[0mnp\u001b[0m\u001b[0;34m.\u001b[0m\u001b[0mdot\u001b[0m\u001b[0;34m(\u001b[0m\u001b[0;34m-\u001b[0m\u001b[0mresult\u001b[0m\u001b[0;34m,\u001b[0m \u001b[0mweights\u001b[0m\u001b[0;34m)\u001b[0m  \u001b[0;31m# invert for better = higher\u001b[0m\u001b[0;34m\u001b[0m\u001b[0;34m\u001b[0m\u001b[0m\n\u001b[0m\u001b[1;32m     28\u001b[0m     \u001b[0;32mreturn\u001b[0m \u001b[0mweighted\u001b[0m\u001b[0;34m\u001b[0m\u001b[0;34m\u001b[0m\u001b[0m\n\u001b[1;32m     29\u001b[0m \u001b[0;34m\u001b[0m\u001b[0m\n",
            "\u001b[0;31mTypeError\u001b[0m: bad operand type for unary -: 'list'"
          ]
        }
      ]
    },
    {
      "cell_type": "code",
      "source": [
        "# STEP 1: Install PennyLane if not already installed\n",
        "!pip install pennylane\n",
        "\n",
        "# STEP 2: Import libraries\n",
        "import pennylane as qml\n",
        "from pennylane import numpy as np\n",
        "\n",
        "# STEP 3: Set up the quantum device (3 wires for 3 factors: growth, yield, climate resistance)\n",
        "dev = qml.device(\"default.qubit\", wires=3)\n",
        "\n",
        "# STEP 4: Define scores for each strain: [Growth Speed, Yield, Climate Resistance]\n",
        "strain_scores = {\n",
        "    \"Strain A\": [0.9, 0.6, 0.3],\n",
        "    \"Strain B\": [0.3, 0.9, 0.9],\n",
        "    \"Strain C\": [0.6, 0.6, 0.9]\n",
        "}\n",
        "\n",
        "# STEP 5: Set your custom importance weights (e.g., you care most about Growth)\n",
        "weights = np.array([0.5, 0.3, 0.2])  # Feel free to change priorities here\n",
        "\n",
        "# STEP 6: Define the quantum circuit\n",
        "@qml.qnode(dev)\n",
        "def quantum_eval(x):\n",
        "    for i in range(3):\n",
        "        qml.RY(x[i] * np.pi, wires=i)  # encode each score into a rotation\n",
        "    return [qml.expval(qml.PauliZ(i)) for i in range(3)]  # measure result\n",
        "\n",
        "# STEP 7: Create function to evaluate and score each strain\n",
        "def score_strain(name, scores):\n",
        "    x = np.array(scores)\n",
        "    result = np.array(quantum_eval(x))  # Convert list to NumPy array\n",
        "    weighted = np.dot(-result, weights)  # Invert values (lower Z = better)\n",
        "    return weighted\n",
        "\n",
        "# STEP 8: Compare and print strain scores\n",
        "for name, scores in strain_scores.items():\n",
        "    value = score_strain(name, scores)\n",
        "    print(f\"{name} score: {value:.4f}\")\n"
      ],
      "metadata": {
        "colab": {
          "base_uri": "https://localhost:8080/"
        },
        "id": "kW6nkQr7SPzl",
        "outputId": "61c8e1f3-5dd4-4571-efcd-2ac1a5df7394"
      },
      "execution_count": 3,
      "outputs": [
        {
          "output_type": "stream",
          "name": "stdout",
          "text": [
            "Requirement already satisfied: pennylane in /usr/local/lib/python3.11/dist-packages (0.42.1)\n",
            "Requirement already satisfied: scipy in /usr/local/lib/python3.11/dist-packages (from pennylane) (1.16.0)\n",
            "Requirement already satisfied: networkx in /usr/local/lib/python3.11/dist-packages (from pennylane) (3.5)\n",
            "Requirement already satisfied: rustworkx>=0.14.0 in /usr/local/lib/python3.11/dist-packages (from pennylane) (0.16.0)\n",
            "Requirement already satisfied: autograd in /usr/local/lib/python3.11/dist-packages (from pennylane) (1.8.0)\n",
            "Requirement already satisfied: appdirs in /usr/local/lib/python3.11/dist-packages (from pennylane) (1.4.4)\n",
            "Requirement already satisfied: autoray>=0.6.11 in /usr/local/lib/python3.11/dist-packages (from pennylane) (0.7.2)\n",
            "Requirement already satisfied: cachetools in /usr/local/lib/python3.11/dist-packages (from pennylane) (5.5.2)\n",
            "Requirement already satisfied: pennylane-lightning>=0.42 in /usr/local/lib/python3.11/dist-packages (from pennylane) (0.42.0)\n",
            "Requirement already satisfied: requests in /usr/local/lib/python3.11/dist-packages (from pennylane) (2.32.3)\n",
            "Requirement already satisfied: tomlkit in /usr/local/lib/python3.11/dist-packages (from pennylane) (0.13.3)\n",
            "Requirement already satisfied: typing_extensions in /usr/local/lib/python3.11/dist-packages (from pennylane) (4.14.1)\n",
            "Requirement already satisfied: packaging in /usr/local/lib/python3.11/dist-packages (from pennylane) (25.0)\n",
            "Requirement already satisfied: diastatic-malt in /usr/local/lib/python3.11/dist-packages (from pennylane) (2.15.2)\n",
            "Requirement already satisfied: numpy in /usr/local/lib/python3.11/dist-packages (from pennylane) (2.0.2)\n",
            "Requirement already satisfied: scipy-openblas32>=0.3.26 in /usr/local/lib/python3.11/dist-packages (from pennylane-lightning>=0.42->pennylane) (0.3.30.0.2)\n",
            "Requirement already satisfied: astunparse in /usr/local/lib/python3.11/dist-packages (from diastatic-malt->pennylane) (1.6.3)\n",
            "Requirement already satisfied: gast in /usr/local/lib/python3.11/dist-packages (from diastatic-malt->pennylane) (0.6.0)\n",
            "Requirement already satisfied: termcolor in /usr/local/lib/python3.11/dist-packages (from diastatic-malt->pennylane) (3.1.0)\n",
            "Requirement already satisfied: charset-normalizer<4,>=2 in /usr/local/lib/python3.11/dist-packages (from requests->pennylane) (3.4.2)\n",
            "Requirement already satisfied: idna<4,>=2.5 in /usr/local/lib/python3.11/dist-packages (from requests->pennylane) (3.10)\n",
            "Requirement already satisfied: urllib3<3,>=1.21.1 in /usr/local/lib/python3.11/dist-packages (from requests->pennylane) (2.5.0)\n",
            "Requirement already satisfied: certifi>=2017.4.17 in /usr/local/lib/python3.11/dist-packages (from requests->pennylane) (2025.7.14)\n",
            "Requirement already satisfied: wheel<1.0,>=0.23.0 in /usr/local/lib/python3.11/dist-packages (from astunparse->diastatic-malt->pennylane) (0.45.1)\n",
            "Requirement already satisfied: six<2.0,>=1.6.1 in /usr/local/lib/python3.11/dist-packages (from astunparse->diastatic-malt->pennylane) (1.17.0)\n",
            "Strain A score: 0.4507\n",
            "Strain B score: 0.1816\n",
            "Strain C score: 0.4374\n"
          ]
        }
      ]
    },
    {
      "cell_type": "code",
      "source": [
        "import pennylane as qml\n",
        "from pennylane import numpy as np\n",
        "\n",
        "# Setup device with 4 wires (for 4 features per substrate)\n",
        "dev = qml.device(\"default.qubit\", wires=4)\n",
        "\n",
        "# Define substrate scores: [Yield, Cost, Ease, Reusability]\n",
        "substrates = {\n",
        "    \"Straw\":          [0.9, 1.0, 1.0, 0.2],\n",
        "    \"Sawdust\":        [0.8, 0.6, 0.6, 1.0],\n",
        "    \"Coffee Grounds\": [0.7, 1.0, 1.0, 0.3],\n",
        "    \"Coco Coir\":      [0.7, 0.6, 0.4, 1.0],\n",
        "    \"Cardboard\":      [0.4, 1.0, 1.0, 1.0]\n",
        "}\n",
        "\n",
        "# Set your priorities: [Yield, Cost, Ease, Reusability]\n",
        "weights = np.array([0.4, 0.2, 0.2, 0.2])  # You can adjust this later!\n",
        "\n",
        "@qml.qnode(dev)\n",
        "def quantum_eval(x):\n",
        "    for i in range(4):\n",
        "        qml.RY(x[i]*np.pi, wires=i)\n",
        "    return [qml.expval(qml.PauliZ(i)) for i in range(4)]\n",
        "\n",
        "def score_substrate(name, scores):\n",
        "    x = np.array(scores)\n",
        "    result = np.array(quantum_eval(x))\n",
        "    weighted = np.dot(-result, weights)  # better = higher\n",
        "    return weighted\n",
        "\n",
        "# Evaluate each substrate\n",
        "for name, scores in substrates.items():\n",
        "    value = score_substrate(name, scores)\n",
        "    print(f\"{name} score: {value:.4f}\")\n"
      ],
      "metadata": {
        "colab": {
          "base_uri": "https://localhost:8080/"
        },
        "id": "eniWWjfPScnJ",
        "outputId": "4ec1b595-ca3c-4f34-b77c-2e283b681c75"
      },
      "execution_count": 4,
      "outputs": [
        {
          "output_type": "stream",
          "name": "stdout",
          "text": [
            "Straw score: 0.6186\n",
            "Sawdust score: 0.6472\n",
            "Coffee Grounds score: 0.5176\n",
            "Coco Coir score: 0.4351\n",
            "Cardboard score: 0.4764\n"
          ]
        }
      ]
    },
    {
      "cell_type": "code",
      "source": [
        "import pennylane as qml\n",
        "from pennylane import numpy as np\n",
        "\n",
        "# Setup device with 4 wires (4 criteria)\n",
        "dev = qml.device(\"default.qubit\", wires=4)\n",
        "\n",
        "# Define inoculation ratios: [Colonization Speed, Cost, Contam Risk (inverted), Success Rate]\n",
        "ratios = {\n",
        "    \"5% Spawn\":   [0.3, 1.0, 0.2, 0.3],\n",
        "    \"10% Spawn\":  [0.6, 0.8, 0.5, 0.6],\n",
        "    \"15% Spawn\":  [0.9, 0.6, 0.9, 0.9],\n",
        "    \"20% Spawn\":  [0.9, 0.3, 0.9, 0.9]\n",
        "}\n",
        "\n",
        "# You can adjust priorities here\n",
        "# Priorities: [Speed, Cost, Contam Safety, Success]\n",
        "weights = np.array([0.4, 0.2, 0.2, 0.2])  # Speed matters most here\n",
        "\n",
        "@qml.qnode(dev)\n",
        "def quantum_eval(x):\n",
        "    for i in range(4):\n",
        "        qml.RY(x[i]*np.pi, wires=i)\n",
        "    return [qml.expval(qml.PauliZ(i)) for i in range(4)]\n",
        "\n",
        "def score_ratio(name, scores):\n",
        "    x = np.array(scores)\n",
        "    result = np.array(quantum_eval(x))\n",
        "    weighted = np.dot(-result, weights)\n",
        "    return weighted\n",
        "\n",
        "# Run evaluations\n",
        "for name, scores in ratios.items():\n",
        "    value = score_ratio(name, scores)\n",
        "    print(f\"{name} score: {value:.4f}\")\n"
      ],
      "metadata": {
        "colab": {
          "base_uri": "https://localhost:8080/"
        },
        "id": "hL0seugjSpWm",
        "outputId": "db5639a8-e270-4e34-e572-3e650aa99c1b"
      },
      "execution_count": 5,
      "outputs": [
        {
          "output_type": "stream",
          "name": "stdout",
          "text": [
            "5% Spawn score: -0.3145\n",
            "10% Spawn score: 0.3472\n",
            "15% Spawn score: 0.8226\n",
            "20% Spawn score: 0.6433\n"
          ]
        }
      ]
    },
    {
      "cell_type": "code",
      "source": [
        "import pennylane as qml\n",
        "from pennylane import numpy as np\n",
        "\n",
        "# Device with 5 wires: Growth Speed, Contam Risk, Energy Cost, Success Rate, Waste Risk\n",
        "dev = qml.device(\"default.qubit\", wires=5)\n",
        "\n",
        "# Define combinations: [Growth, Contam Safety, Energy, Success, Waste]\n",
        "# Scores normalized between 0 and 1\n",
        "incubation_plans = {\n",
        "    \"20°C / 10d\": [0.6, 1.0, 1.0, 0.3, 0.2],\n",
        "    \"20°C / 14d\": [0.6, 1.0, 1.0, 0.6, 0.4],\n",
        "    \"25°C / 14d\": [0.8, 0.7, 0.7, 0.6, 0.4],\n",
        "    \"25°C / 18d\": [0.8, 0.7, 0.7, 0.9, 0.7],\n",
        "    \"30°C / 10d\": [1.0, 0.4, 0.4, 0.3, 0.2],\n",
        "    \"30°C / 18d\": [1.0, 0.4, 0.4, 0.9, 0.7]\n",
        "}\n",
        "\n",
        "# Priorities: [Growth Speed, Contam Safety, Energy, Success Rate, Waste Risk]\n",
        "weights = np.array([0.4, 0.2, 0.1, 0.2, 0.1])\n",
        "\n",
        "@qml.qnode(dev)\n",
        "def quantum_eval(x):\n",
        "    for i in range(5):\n",
        "        qml.RY(x[i]*np.pi, wires=i)\n",
        "    return [qml.expval(qml.PauliZ(i)) for i in range(5)]\n",
        "\n",
        "def score_plan(name, scores):\n",
        "    x = np.array(scores)\n",
        "    result = np.array(quantum_eval(x))\n",
        "    weighted = np.dot(-result, weights)\n",
        "    return weighted\n",
        "\n",
        "# Evaluate each incubation setup\n",
        "for name, scores in incubation_plans.items():\n",
        "    value = score_plan(name, scores)\n",
        "    print(f\"{name} score: {value:.4f}\")\n"
      ],
      "metadata": {
        "colab": {
          "base_uri": "https://localhost:8080/"
        },
        "id": "Takwl2hESxSE",
        "outputId": "27ada5ad-ed5e-4bd6-c28a-d5c60347028b"
      },
      "execution_count": 6,
      "outputs": [
        {
          "output_type": "stream",
          "name": "stdout",
          "text": [
            "20°C / 10d score: 0.2251\n",
            "20°C / 14d score: 0.4545\n",
            "25°C / 14d score: 0.5308\n",
            "25°C / 18d score: 0.7489\n",
            "30°C / 10d score: 0.1088\n",
            "30°C / 18d score: 0.5563\n"
          ]
        }
      ]
    },
    {
      "cell_type": "code",
      "source": [
        "import pennylane as qml\n",
        "from pennylane import numpy as np\n",
        "\n",
        "# Use 4 wires: Temp Drop, Humidity Boost, Fresh Air, Light Hours\n",
        "dev = qml.device(\"default.qubit\", wires=4)\n",
        "\n",
        "# Define setups: [Temp Drop, Humidity, Fresh Air, Light Exposure]\n",
        "# Scores represent effectiveness (not values of conditions)\n",
        "initiation_methods = {\n",
        "    \"Mild Trigger\": [0.4, 0.5, 0.4, 0.5],\n",
        "    \"Moderate Balanced\": [0.6, 0.7, 0.7, 0.6],\n",
        "    \"Aggressive Trigger\": [0.9, 0.9, 0.9, 0.7],\n",
        "    \"Dry Air Shock\": [0.8, 0.3, 1.0, 0.5],\n",
        "    \"Humidity Maxed\": [0.5, 1.0, 0.6, 0.6]\n",
        "}\n",
        "\n",
        "# Priority weights: [Temp, Humidity, Air, Light]\n",
        "weights = np.array([0.3, 0.3, 0.2, 0.2])\n",
        "\n",
        "@qml.qnode(dev)\n",
        "def quantum_eval(x):\n",
        "    for i in range(4):\n",
        "        qml.RY(x[i]*np.pi, wires=i)\n",
        "    return [qml.expval(qml.PauliZ(i)) for i in range(4)]\n",
        "\n",
        "def score_trigger(name, scores):\n",
        "    x = np.array(scores)\n",
        "    result = np.array(quantum_eval(x))\n",
        "    weighted = np.dot(-result, weights)\n",
        "    return weighted\n",
        "\n",
        "# Run the analysis\n",
        "for name, scores in initiation_methods.items():\n",
        "    value = score_trigger(name, scores)\n",
        "    print(f\"{name} score: {value:.4f}\")\n"
      ],
      "metadata": {
        "colab": {
          "base_uri": "https://localhost:8080/"
        },
        "id": "zOM9GjyES8od",
        "outputId": "8f964d07-28bb-4d3e-e166-6a8972be85b3"
      },
      "execution_count": 7,
      "outputs": [
        {
          "output_type": "stream",
          "name": "stdout",
          "text": [
            "Mild Trigger score: -0.1545\n",
            "Moderate Balanced score: 0.4484\n",
            "Aggressive Trigger score: 0.8784\n",
            "Dry Air Shock score: 0.2664\n",
            "Humidity Maxed score: 0.4236\n"
          ]
        }
      ]
    },
    {
      "cell_type": "code",
      "source": [
        "import pennylane as qml\n",
        "from pennylane import numpy as np\n",
        "\n",
        "# Use 4 wires: Humidity, FAE, Light, Temp Stability\n",
        "dev = qml.device(\"default.qubit\", wires=4)\n",
        "\n",
        "# Define fruiting environment setups\n",
        "fruiting_envs = {\n",
        "    \"Low Maintenance\": [0.6, 0.5, 0.4, 0.5],\n",
        "    \"Balanced Grow Tent\": [0.8, 0.7, 0.6, 0.8],\n",
        "    \"High FAE Mode\": [0.6, 1.0, 0.7, 0.7],\n",
        "    \"Max Humid Box\": [1.0, 0.4, 0.5, 0.7],\n",
        "    \"Precision Room\": [0.9, 0.9, 0.7, 1.0]\n",
        "}\n",
        "\n",
        "# Set your priorities (adjustable): [Humidity, FAE, Light, Temp Stability]\n",
        "weights = np.array([0.3, 0.3, 0.2, 0.2])\n",
        "\n",
        "@qml.qnode(dev)\n",
        "def quantum_eval(x):\n",
        "    for i in range(4):\n",
        "        qml.RY(x[i]*np.pi, wires=i)\n",
        "    return [qml.expval(qml.PauliZ(i)) for i in range(4)]\n",
        "\n",
        "def score_environment(name, scores):\n",
        "    x = np.array(scores)\n",
        "    result = np.array(quantum_eval(x))\n",
        "    weighted = np.dot(-result, weights)\n",
        "    return weighted\n",
        "\n",
        "# Evaluate each environment\n",
        "for name, scores in fruiting_envs.items():\n",
        "    value = score_environment(name, scores)\n",
        "    print(f\"{name} score: {value:.4f}\")\n"
      ],
      "metadata": {
        "colab": {
          "base_uri": "https://localhost:8080/"
        },
        "id": "QDhJMVnxTDOE",
        "outputId": "58ab4ac6-3958-48c2-bbf6-70c3dc537079"
      },
      "execution_count": 8,
      "outputs": [
        {
          "output_type": "stream",
          "name": "stdout",
          "text": [
            "Low Maintenance score: 0.0309\n",
            "Balanced Grow Tent score: 0.6426\n",
            "High FAE Mode score: 0.6278\n",
            "Max Humid Box score: 0.3249\n",
            "Precision Room score: 0.8882\n"
          ]
        }
      ]
    },
    {
      "cell_type": "code",
      "source": [
        "import pennylane as qml\n",
        "from pennylane import numpy as np\n",
        "\n",
        "# Use 4 wires: Size, Flavor, Shelf-Life, Spoilage Risk (inverted)\n",
        "dev = qml.device(\"default.qubit\", wires=4)\n",
        "\n",
        "# Define harvest scenarios\n",
        "harvest_times = {\n",
        "    \"Slightly Early\": [0.6, 0.9, 1.0, 0.2],\n",
        "    \"Perfect Timing\": [1.0, 1.0, 0.8, 0.3],\n",
        "    \"Slightly Late\": [1.0, 0.7, 0.6, 0.5],\n",
        "    \"Very Late (Spores)\": [0.9, 0.5, 0.4, 0.8]\n",
        "}\n",
        "\n",
        "# Set your harvest priorities: [Size, Flavor, Shelf-Life, Spoilage Control]\n",
        "weights = np.array([0.3, 0.3, 0.2, 0.2])\n",
        "\n",
        "@qml.qnode(dev)\n",
        "def quantum_eval(x):\n",
        "    for i in range(4):\n",
        "        qml.RY(x[i]*np.pi, wires=i)\n",
        "    return [qml.expval(qml.PauliZ(i)) for i in range(4)]\n",
        "\n",
        "def score_harvest(name, scores):\n",
        "    x = np.array(scores)\n",
        "    result = np.array(quantum_eval(x))\n",
        "    weighted = np.dot(-result, weights)\n",
        "    return weighted\n",
        "\n",
        "# Run evaluation\n",
        "for name, scores in harvest_times.items():\n",
        "    value = score_harvest(name, scores)\n",
        "    print(f\"{name} score: {value:.4f}\")\n"
      ],
      "metadata": {
        "colab": {
          "base_uri": "https://localhost:8080/"
        },
        "id": "QatoOVhRTLQC",
        "outputId": "764a534d-9055-4be6-9e04-453b9abd9b19"
      },
      "execution_count": 9,
      "outputs": [
        {
          "output_type": "stream",
          "name": "stdout",
          "text": [
            "Slightly Early score: 0.4162\n",
            "Perfect Timing score: 0.6442\n",
            "Slightly Late score: 0.5381\n",
            "Very Late (Spores) score: 0.3853\n"
          ]
        }
      ]
    },
    {
      "cell_type": "code",
      "source": [
        "import pennylane as qml\n",
        "from pennylane import numpy as np\n",
        "\n",
        "# Use 4 wires: Yield, Speed, Cost, Contamination Resistance\n",
        "dev = qml.device(\"default.qubit\", wires=4)\n",
        "\n",
        "# Pairing scores (can adjust later)\n",
        "pairings = {\n",
        "    \"Straw only\": [0.8, 0.8, 1.0, 0.7],\n",
        "    \"Coffee mix\": [0.9, 0.6, 1.0, 0.5],\n",
        "    \"Banana leaf combo\": [1.0, 0.7, 0.6, 0.9],\n",
        "    \"Sawdust pellets\": [0.7, 0.9, 0.6, 0.6],\n",
        "    \"Coco coir mix\": [0.6, 0.7, 0.5, 1.0]\n",
        "}\n",
        "\n",
        "# Your priorities: [Yield, Speed, Cost, Resistance]\n",
        "weights = np.array([0.4, 0.3, 0.1, 0.2])  # Feel free to tweak!\n",
        "\n",
        "@qml.qnode(dev)\n",
        "def quantum_eval(x):\n",
        "    for i in range(4):\n",
        "        qml.RY(x[i]*np.pi, wires=i)\n",
        "    return [qml.expval(qml.PauliZ(i)) for i in range(4)]\n",
        "\n",
        "def score_pairing(name, scores):\n",
        "    x = np.array(scores)\n",
        "    result = np.array(quantum_eval(x))\n",
        "    weighted = np.dot(-result, weights)\n",
        "    return weighted\n",
        "\n",
        "# Evaluate pairings\n",
        "for name, scores in pairings.items():\n",
        "    value = score_pairing(name, scores)\n",
        "    print(f\"{name} score: {value:.4f}\")\n"
      ],
      "metadata": {
        "colab": {
          "base_uri": "https://localhost:8080/"
        },
        "id": "yHiB1H70TU7H",
        "outputId": "f32bcd11-8694-4aed-c892-bf96de728779"
      },
      "execution_count": 10,
      "outputs": [
        {
          "output_type": "stream",
          "name": "stdout",
          "text": [
            "Straw only score: 0.7839\n",
            "Coffee mix score: 0.5731\n",
            "Banana leaf combo score: 0.7974\n",
            "Sawdust pellets score: 0.6131\n",
            "Coco coir mix score: 0.4999\n"
          ]
        }
      ]
    },
    {
      "cell_type": "code",
      "source": [
        "import pennylane as qml\n",
        "from pennylane import numpy as np\n",
        "\n",
        "# Use 4 wires: Yield, Speed, Texture/Color, Contam Resistance\n",
        "dev = qml.device(\"default.qubit\", wires=4)\n",
        "\n",
        "# Mineral options and scores\n",
        "minerals = {\n",
        "    \"No supplement\": [0.7, 0.6, 0.5, 0.8],\n",
        "    \"Calcium carbonate\": [0.8, 0.7, 0.6, 0.9],\n",
        "    \"Potassium sulfate\": [0.9, 0.8, 0.8, 0.7],\n",
        "    \"Magnesium mix\": [0.8, 0.9, 0.6, 0.6],\n",
        "    \"Seaweed blend\": [0.9, 0.7, 0.9, 0.8]\n",
        "}\n",
        "\n",
        "# Weights for what matters: [Yield, Speed, Texture, Resistance]\n",
        "weights = np.array([0.4, 0.3, 0.2, 0.1])  # You can adjust if needed\n",
        "\n",
        "@qml.qnode(dev)\n",
        "def quantum_eval(x):\n",
        "    for i in range(4):\n",
        "        qml.RY(x[i]*np.pi, wires=i)\n",
        "    return [qml.expval(qml.PauliZ(i)) for i in range(4)]\n",
        "\n",
        "def score_mineral(name, scores):\n",
        "    x = np.array(scores)\n",
        "    result = np.array(quantum_eval(x))\n",
        "    weighted = np.dot(-result, weights)\n",
        "    return weighted\n",
        "\n",
        "# Evaluate minerals\n",
        "for name, scores in minerals.items():\n",
        "    value = score_mineral(name, scores)\n",
        "    print(f\"{name} score: {value:.4f}\")\n"
      ],
      "metadata": {
        "colab": {
          "base_uri": "https://localhost:8080/"
        },
        "id": "5IuLKiQkUDGj",
        "outputId": "35b63e3c-0fe8-42a5-cace-dcd77334d3c7"
      },
      "execution_count": 11,
      "outputs": [
        {
          "output_type": "stream",
          "name": "stdout",
          "text": [
            "No supplement score: 0.4087\n",
            "Calcium carbonate score: 0.6569\n",
            "Potassium sulfate score: 0.8437\n",
            "Magnesium mix score: 0.7016\n",
            "Seaweed blend score: 0.8279\n"
          ]
        }
      ]
    },
    {
      "cell_type": "code",
      "source": [
        "import pennylane as qml\n",
        "from pennylane import numpy as np\n",
        "\n",
        "# Quantum device: 4 factors (Yield, Growth Speed, Contam Risk, Effort)\n",
        "dev = qml.device(\"default.qubit\", wires=4)\n",
        "\n",
        "# Different versions of the same hands-on activity\n",
        "activities = {\n",
        "    \"5% Spawn Ratio\": [0.6, 0.4, 0.2, 0.3],\n",
        "    \"10% Spawn Ratio\": [0.8, 0.7, 0.4, 0.5],\n",
        "    \"20% Spawn Ratio\": [1.0, 1.0, 0.8, 0.8]\n",
        "}\n",
        "\n",
        "# Priorities: [Yield, Speed, Risk Control, Simplicity]\n",
        "weights = np.array([0.4, 0.3, 0.2, 0.1])\n",
        "\n",
        "@qml.qnode(dev)\n",
        "def quantum_eval(x):\n",
        "    for i in range(4):\n",
        "        qml.RY(x[i]*np.pi, wires=i)\n",
        "    return [qml.expval(qml.PauliZ(i)) for i in range(4)]\n",
        "\n",
        "def score_activity(name, scores):\n",
        "    x = np.array(scores)\n",
        "    result = np.array(quantum_eval(x))\n",
        "    weighted = np.dot(-result, weights)\n",
        "    return weighted\n",
        "\n",
        "# Evaluate all activity variations\n",
        "for name, scores in activities.items():\n",
        "    value = score_activity(name, scores)\n",
        "    print(f\"{name} score: {value:.4f}\")\n"
      ],
      "metadata": {
        "colab": {
          "base_uri": "https://localhost:8080/"
        },
        "id": "TLFBNJBaUX1L",
        "outputId": "2d065f42-4598-42d4-db94-1feda22c4b20"
      },
      "execution_count": 12,
      "outputs": [
        {
          "output_type": "stream",
          "name": "stdout",
          "text": [
            "5% Spawn Ratio score: -0.1897\n",
            "10% Spawn Ratio score: 0.4381\n",
            "20% Spawn Ratio score: 0.9427\n"
          ]
        }
      ]
    },
    {
      "cell_type": "code",
      "source": [],
      "metadata": {
        "id": "Z1MY1Eu0UsBh"
      },
      "execution_count": null,
      "outputs": []
    }
  ]
}